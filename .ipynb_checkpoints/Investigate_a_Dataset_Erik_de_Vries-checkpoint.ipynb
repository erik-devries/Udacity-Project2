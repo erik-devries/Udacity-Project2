{
 "cells": [
  {
   "cell_type": "markdown",
   "metadata": {},
   "source": [
    "# Analyzing the Impacts of Gross Domestic Product on Quality of Life\n",
    "\n",
    "## Table of Contents\n",
    "<ul>\n",
    "<li><a href=\"#intro\">Introduction</a></li>\n",
    "<li><a href=\"#wrangling\">Data Wrangling</a></li>\n",
    "<li><a href=\"#eda\">Exploratory Data Analysis</a></li>\n",
    "<li><a href=\"#conclusions\">Conclusions</a></li>\n",
    "</ul>"
   ]
  },
  {
   "cell_type": "markdown",
   "metadata": {},
   "source": [
    "<a id='intro'></a>\n",
    "## Introduction\n",
    "In 2005, Dr. Hans Rosling, together with his son and daughter-in-law, founded the [Gapminder Foundation](https://www.gapminder.org) to fight ignorance. The foundation has analyzed and measured ignorance on a wide variety of topics and released not only their findings, but also the underlying data. They also developed and released their [own visualization tool](https://www.gapminder.org/tools-offline/) that allows anybody to create informative charts without the need to program. In 2018 their book 'Factfulness' became a world wide bestseller and features many data visualizations based on the Gapminder dataset. \n",
    "\n",
    "The [full dataset](https://www.gapminder.org/data/) contains hundreds of different indicators that are searchable through a web interface, allowing *.csv* or *.xlsx* exports of individual indicators. Alternatively, the full dataset is accessible as a github repository. The information in this repository is stored with each indicator in a *.csv* file per the [DDF data model](https://open-numbers.github.io/ddf.html).\n",
    "\n",
    "For this project, the effect of gross domestic product (GDP) on a country or region's wellbeing will be analyzed using the Gapminder dataset. \n",
    "\n",
    "First, the development of GDP through the years will be analyzed. What regions or countries have grown the most and how is this growth concentrated? In the next section the following indicators will be used to determine the effect of GDP per capita on quality of life:\n",
    "\n",
    "<ul>\n",
    "    <li> Life expectancy </li>\n",
    "    <li> Number of children per woman </li>\n",
    "    <li> Child deaths under 5 years of age </li>\n",
    "    <li> Percentage of girls completing elementary school </li>\n",
    "    <li> Percentage of malnutrition in children under 5 yeras of age </li>\n",
    "</ul>\n",
    "\n",
    "Is there a correlation between GDP and these indicators? Is this correlation weaker or stronger depending on region?\n",
    "\n",
    "Per Gapminder, the GDP data used throughout this analysis is in constant 2010 U.S. dollars, converted (where possible) using the 2010 exchange rate from the local currency to U.S. dollars."
   ]
  },
  {
   "cell_type": "markdown",
   "metadata": {},
   "source": [
    "<a id='wrangling'></a>\n",
    "## Data Wrangling"
   ]
  },
  {
   "cell_type": "markdown",
   "metadata": {},
   "source": [
    "### Python Library Imports\n",
    "The below codeblock contains all imports used throughout this Notebook."
   ]
  },
  {
   "cell_type": "code",
   "execution_count": 1,
   "metadata": {
    "tags": []
   },
   "outputs": [],
   "source": [
    "import pandas as pd\n",
    "import numpy as np\n",
    "import matplotlib.pyplot as plt\n",
    "import seaborn as sns\n",
    "from ipywidgets import interact, fixed   # to create interactive content\n",
    "import ipywidgets as widgets\n",
    "from functools import reduce\n",
    "from IPython.display import Image\n",
    "from IPython.core.display import HTML\n",
    "import sys\n",
    "\n",
    "#local functions \n",
    "import print_info as pi # (for comments see: ./print_info.py)\n",
    "\n",
    "#enable inline plotting in notebook:\n",
    "%matplotlib inline                  \n"
   ]
  },
  {
   "cell_type": "markdown",
   "metadata": {},
   "source": [
    "### Accessing the Gapminder Data\n",
    "For this analysis, the Gapminder dataset is accessed by cloning the github repository using:\n",
    "\n",
    "`git clone https://github.com/open-numbers/ddf--gapminder--systema_globalis.git`\n",
    "\n",
    "As stated in the introduction, the data in the Gapminder dataset (also called *Systema Globalis*), is organized as a loose set of *.csv* files. Each file contains a single indicator with the data stored stored as *key-value* pairs. For example, the GDP information for this analysis is stored in the file *ddf--datapoints--gdppercapita_us_inflation_adjusted--by--geo--time.csv* and its data is stored using the keys *geo* and *time* and value *gdppercapita_us_inflation_adjusted*. Note that per the DDF model this information can also be inferred by the naming convention of the *.csv* file.\n",
    "\n",
    "Gapminder uses a lower case string as location identifier (e.g. *usa* for United States). This information is stored in the file: *ddf--entities--geo--country.csv*.\n",
    "\n",
    "The *geo* key can be used in all the individual indicator files to lookup the name of the location, as well as other properties that Gapminder tracks per location."
   ]
  },
  {
   "cell_type": "markdown",
   "metadata": {},
   "source": [
    "### General Properties"
   ]
  },
  {
   "cell_type": "markdown",
   "metadata": {},
   "source": [
    "#### Naming convention\n",
    "To use multiple files from the dataset without having to hard code each file's full filename, the following file and path naming convention will be used:\n",
    "* folder paths always end with '/'\n",
    "* file names never start with a '/'"
   ]
  },
  {
   "cell_type": "markdown",
   "metadata": {},
   "source": [
    "#### Setup the file environment\n",
    "The `dataroot` contains the path name of the folder that contains information pertaining to *all* indicators, such as a list of countries, a .json file describing the dataset and more.\n",
    "`sub` contains the path name relative to the root folder of the folder containing all the indicators in the Gapminder dataset."
   ]
  },
  {
   "cell_type": "code",
   "execution_count": 2,
   "metadata": {
    "tags": []
   },
   "outputs": [],
   "source": [
    "dataroot = r'./gapminder/ddf--gapminder--systema_globalis/'\n",
    "sub = r'countries-etc-datapoints/'"
   ]
  },
  {
   "cell_type": "markdown",
   "metadata": {},
   "source": [
    "#### Applying themes\n",
    "The following code block contains all globally applied themes and font settings."
   ]
  },
  {
   "cell_type": "code",
   "execution_count": 3,
   "metadata": {
    "tags": []
   },
   "outputs": [],
   "source": [
    "# apply Seaborn style to plots\n",
    "sns.set_theme(context = 'notebook')"
   ]
  },
  {
   "cell_type": "markdown",
   "metadata": {},
   "source": [
    "### Loading the CSV files\n",
    "In this section all data from the Gapminder *csv* files is loaded into Pandas DataFrames."
   ]
  },
  {
   "cell_type": "markdown",
   "metadata": {},
   "source": [
    "#### Independent Variable: GDP per Capita"
   ]
  },
  {
   "cell_type": "code",
   "execution_count": 4,
   "metadata": {},
   "outputs": [],
   "source": [
    "gdp_per_cap_by_geo = r'ddf--datapoints--gdppercapita_us_inflation_adjusted--by--geo--time.csv'"
   ]
  },
  {
   "cell_type": "markdown",
   "metadata": {},
   "source": [
    "#### Dependent Variables"
   ]
  },
  {
   "cell_type": "code",
   "execution_count": 5,
   "metadata": {},
   "outputs": [],
   "source": [
    "deaths_under_5 = r'ddf--datapoints--all_causes_deaths_in_children_1_59_months_per_1000_births--by--geo--time.csv'\n",
    "life_expectancy = r'ddf--datapoints--life_expectancy_years--by--geo--time.csv'\n",
    "malnutrition = r'ddf--datapoints--malnutrition_weight_for_age_percent_of_children_under_5--by--geo--time.csv'\n",
    "girls_in_school = r'ddf--datapoints--primary_school_completion_percent_of_girls--by--geo--time.csv'\n",
    "babies_per_woman = r'ddf--datapoints--children_per_woman_total_fertility--by--geo--time.csv'"
   ]
  },
  {
   "cell_type": "markdown",
   "metadata": {},
   "source": [
    "#### Additional Indicators\n",
    "We'll use three additional indicators:\n",
    "<ul>\n",
    "    <li>Total GDP</li>\n",
    "    <li>Population size</li>\n",
    "    <li>Geographic Entities</li>\n",
    "</ul>\n",
    "The first two indicators are useful when grouping by region. Population size can be used to show a countries influence on aggregate data. Total GDP by country is a useful statistic to compare the economic output of a country. This information could be calculated by using the GDP per capita and multiplying this by population size, but since this indicator is already available in the Gapminder dataset, it easier to use it direcly. \n",
    "\n",
    "The *Geographic Entities* file contains the official names of all the countries in the dataset as well as additional information regarding region and income groupings."
   ]
  },
  {
   "cell_type": "code",
   "execution_count": 6,
   "metadata": {},
   "outputs": [],
   "source": [
    "population_size = r'ddf--datapoints--population_total--by--geo--time.csv'\n",
    "total_gdp_by_geo = r'ddf--datapoints--total_gdp_us_inflation_adjusted--by--geo--time.csv'\n",
    "geo = r'ddf--entities--geo--country.csv'"
   ]
  },
  {
   "cell_type": "markdown",
   "metadata": {},
   "source": [
    "### Creating the Individual Dataframes\n",
    "In this chapter the necessary DataFrames will be put together through a series of steps. First, each *csv* file will be loaded into each own DataFrame. Next, the data will be inspected, cleaned where necessary and finally joined together into a single DataFrame."
   ]
  },
  {
   "cell_type": "markdown",
   "metadata": {},
   "source": [
    "#### Load *csv* files"
   ]
  },
  {
   "cell_type": "code",
   "execution_count": 7,
   "metadata": {},
   "outputs": [],
   "source": [
    "df_gdp_per_cap = pd.read_csv(dataroot+sub+gdp_per_cap_by_geo)\n",
    "df_total_gdp = pd.read_csv(dataroot+sub+total_gdp_by_geo)\n",
    "df_deaths_under_5 = pd.read_csv(dataroot+sub+deaths_under_5)\n",
    "df_life_expectancy = pd.read_csv(dataroot+sub+life_expectancy)\n",
    "df_malnutrition = pd.read_csv(dataroot+sub+malnutrition)\n",
    "df_girls_in_school = pd.read_csv(dataroot+sub+girls_in_school)\n",
    "df_babies_per_woman = pd.read_csv(dataroot+sub+babies_per_woman)\n",
    "\n",
    "df_population_size = pd.read_csv(dataroot+sub+population_size)\n",
    "df_geo = pd.read_csv(dataroot+geo)"
   ]
  },
  {
   "cell_type": "markdown",
   "metadata": {},
   "source": [
    "A dicitionary consisting of a DataFrame description and a DataFrame variable name (*key-value pair*) will be setup. This allows the easy printing of a description when performing analysis on each element using a loop."
   ]
  },
  {
   "cell_type": "code",
   "execution_count": 8,
   "metadata": {},
   "outputs": [],
   "source": [
    "dict_of_df = {'GDP per Capita': df_gdp_per_cap,\n",
    "              'Total GDP': df_total_gdp,\n",
    "              'Deaths under 5': df_deaths_under_5,\n",
    "              'Life Expectancy': df_life_expectancy,\n",
    "              'Malnutrition': df_malnutrition,\n",
    "              'Girls in School': df_girls_in_school,\n",
    "              'Babies per Woman': df_babies_per_woman,\n",
    "              'Population Size': df_population_size,\n",
    "              'geo': df_geo}"
   ]
  },
  {
   "cell_type": "markdown",
   "metadata": {},
   "source": [
    "#### Explore the data\n",
    "Since all indicators in the Gapminder dataset are stored in the same DDF format, the expectation is to find relatively clean data with, for example, no duplicate keys, or missing values. A few some small functions will be created to loop through the list of dataframes and check for these conditions."
   ]
  },
  {
   "cell_type": "code",
   "execution_count": 9,
   "metadata": {},
   "outputs": [],
   "source": [
    "def show_duplicates(dict_of_df):\n",
    "    \"\"\"Prints the sum total of duplicated rows for all dataframes in a the supplied dictionary.\"\"\"\n",
    "    print(\"****************************************\")\n",
    "    for name, df in dict_of_df.items():\n",
    "        print(name,\" has \",df.duplicated().sum(),\" duplicated row(s)\")\n",
    "    print(\"****************************************\")\n",
    "        \n",
    "def show_nulls(dict_of_df):\n",
    "    \"\"\"Prints the count of null (NaN) values for each column in each dataframe in the supplied dict\"\"\"\n",
    "    print(\"****************************************\")\n",
    "    for name, df in dict_of_df.items():\n",
    "        if df.isnull().sum().sum() != 0:\n",
    "            print(name,\" has the following number of null values: \")\n",
    "            print(df.isnull().sum())\n",
    "        else:\n",
    "            print(name, \"has no null values\")\n",
    "    print(\"****************************************\")\n",
    "    \n",
    "def print_head(dict_of_df,number_of_rows):\n",
    "    \"\"\"prints the output of head() for each dataframe in the supplied dict. \n",
    "    The number of rows is set by the 2nd input 'number_of_rows'\n",
    "    \"\"\"\n",
    "    print(\"****************************************\")\n",
    "    for name, df in dict_of_df.items():\n",
    "        print(name)\n",
    "        display(df.head(number_of_rows))\n",
    "    print(\"****************************************\")"
   ]
  },
  {
   "cell_type": "markdown",
   "metadata": {},
   "source": [
    "The result of the functions above is shown below:"
   ]
  },
  {
   "cell_type": "code",
   "execution_count": 10,
   "metadata": {},
   "outputs": [
    {
     "name": "stdout",
     "output_type": "stream",
     "text": [
      " - DUPLICATES -\n",
      "****************************************\n",
      "GDP per Capita  has  0  duplicated row(s)\n",
      "Total GDP  has  0  duplicated row(s)\n",
      "Deaths under 5  has  0  duplicated row(s)\n",
      "Life Expectancy  has  0  duplicated row(s)\n",
      "Malnutrition  has  0  duplicated row(s)\n",
      "Girls in School  has  0  duplicated row(s)\n",
      "Babies per Woman  has  0  duplicated row(s)\n",
      "Population Size  has  0  duplicated row(s)\n",
      "geo  has  0  duplicated row(s)\n",
      "****************************************\n",
      " - NULL VALUES -\n",
      "****************************************\n",
      "GDP per Capita has no null values\n",
      "Total GDP has no null values\n",
      "Deaths under 5 has no null values\n",
      "Life Expectancy has no null values\n",
      "Malnutrition has no null values\n",
      "Girls in School has no null values\n",
      "Babies per Woman has no null values\n",
      "Population Size has no null values\n",
      "geo  has the following number of null values: \n",
      "country                     0\n",
      "g77_and_oecd_countries     14\n",
      "income_3groups             55\n",
      "income_groups              55\n",
      "is--country                 0\n",
      "iso3166_1_alpha2           27\n",
      "iso3166_1_alpha3           26\n",
      "iso3166_1_numeric          26\n",
      "iso3166_2                 272\n",
      "landlocked                 18\n",
      "latitude                   32\n",
      "longitude                  32\n",
      "main_religion_2008         57\n",
      "name                        0\n",
      "un_sdg_ldc                 24\n",
      "un_sdg_region              25\n",
      "un_state                    0\n",
      "unicef_region              78\n",
      "unicode_region_subtag      25\n",
      "world_4region               2\n",
      "world_6region              13\n",
      "dtype: int64\n",
      "****************************************\n",
      " - HEAD\n",
      "****************************************\n",
      "GDP per Capita\n"
     ]
    },
    {
     "data": {
      "text/html": [
       "<div>\n",
       "<style scoped>\n",
       "    .dataframe tbody tr th:only-of-type {\n",
       "        vertical-align: middle;\n",
       "    }\n",
       "\n",
       "    .dataframe tbody tr th {\n",
       "        vertical-align: top;\n",
       "    }\n",
       "\n",
       "    .dataframe thead th {\n",
       "        text-align: right;\n",
       "    }\n",
       "</style>\n",
       "<table border=\"1\" class=\"dataframe\">\n",
       "  <thead>\n",
       "    <tr style=\"text-align: right;\">\n",
       "      <th></th>\n",
       "      <th>geo</th>\n",
       "      <th>time</th>\n",
       "      <th>gdppercapita_us_inflation_adjusted</th>\n",
       "    </tr>\n",
       "  </thead>\n",
       "  <tbody>\n",
       "    <tr>\n",
       "      <th>0</th>\n",
       "      <td>abw</td>\n",
       "      <td>1986</td>\n",
       "      <td>15669.61604</td>\n",
       "    </tr>\n",
       "    <tr>\n",
       "      <th>1</th>\n",
       "      <td>abw</td>\n",
       "      <td>1987</td>\n",
       "      <td>18427.61153</td>\n",
       "    </tr>\n",
       "  </tbody>\n",
       "</table>\n",
       "</div>"
      ],
      "text/plain": [
       "   geo  time  gdppercapita_us_inflation_adjusted\n",
       "0  abw  1986                         15669.61604\n",
       "1  abw  1987                         18427.61153"
      ]
     },
     "metadata": {},
     "output_type": "display_data"
    },
    {
     "name": "stdout",
     "output_type": "stream",
     "text": [
      "Total GDP\n"
     ]
    },
    {
     "data": {
      "text/html": [
       "<div>\n",
       "<style scoped>\n",
       "    .dataframe tbody tr th:only-of-type {\n",
       "        vertical-align: middle;\n",
       "    }\n",
       "\n",
       "    .dataframe tbody tr th {\n",
       "        vertical-align: top;\n",
       "    }\n",
       "\n",
       "    .dataframe thead th {\n",
       "        text-align: right;\n",
       "    }\n",
       "</style>\n",
       "<table border=\"1\" class=\"dataframe\">\n",
       "  <thead>\n",
       "    <tr style=\"text-align: right;\">\n",
       "      <th></th>\n",
       "      <th>geo</th>\n",
       "      <th>time</th>\n",
       "      <th>total_gdp_us_inflation_adjusted</th>\n",
       "    </tr>\n",
       "  </thead>\n",
       "  <tbody>\n",
       "    <tr>\n",
       "      <th>0</th>\n",
       "      <td>abw</td>\n",
       "      <td>1986</td>\n",
       "      <td>9.816074e+08</td>\n",
       "    </tr>\n",
       "    <tr>\n",
       "      <th>1</th>\n",
       "      <td>abw</td>\n",
       "      <td>1987</td>\n",
       "      <td>1.139435e+09</td>\n",
       "    </tr>\n",
       "  </tbody>\n",
       "</table>\n",
       "</div>"
      ],
      "text/plain": [
       "   geo  time  total_gdp_us_inflation_adjusted\n",
       "0  abw  1986                     9.816074e+08\n",
       "1  abw  1987                     1.139435e+09"
      ]
     },
     "metadata": {},
     "output_type": "display_data"
    },
    {
     "name": "stdout",
     "output_type": "stream",
     "text": [
      "Deaths under 5\n"
     ]
    },
    {
     "data": {
      "text/html": [
       "<div>\n",
       "<style scoped>\n",
       "    .dataframe tbody tr th:only-of-type {\n",
       "        vertical-align: middle;\n",
       "    }\n",
       "\n",
       "    .dataframe tbody tr th {\n",
       "        vertical-align: top;\n",
       "    }\n",
       "\n",
       "    .dataframe thead th {\n",
       "        text-align: right;\n",
       "    }\n",
       "</style>\n",
       "<table border=\"1\" class=\"dataframe\">\n",
       "  <thead>\n",
       "    <tr style=\"text-align: right;\">\n",
       "      <th></th>\n",
       "      <th>geo</th>\n",
       "      <th>time</th>\n",
       "      <th>all_causes_deaths_in_children_1_59_months_per_1000_births</th>\n",
       "    </tr>\n",
       "  </thead>\n",
       "  <tbody>\n",
       "    <tr>\n",
       "      <th>0</th>\n",
       "      <td>afg</td>\n",
       "      <td>2008</td>\n",
       "      <td>195.2</td>\n",
       "    </tr>\n",
       "    <tr>\n",
       "      <th>1</th>\n",
       "      <td>ago</td>\n",
       "      <td>2008</td>\n",
       "      <td>166.8</td>\n",
       "    </tr>\n",
       "  </tbody>\n",
       "</table>\n",
       "</div>"
      ],
      "text/plain": [
       "   geo  time  all_causes_deaths_in_children_1_59_months_per_1000_births\n",
       "0  afg  2008                                              195.2        \n",
       "1  ago  2008                                              166.8        "
      ]
     },
     "metadata": {},
     "output_type": "display_data"
    },
    {
     "name": "stdout",
     "output_type": "stream",
     "text": [
      "Life Expectancy\n"
     ]
    },
    {
     "data": {
      "text/html": [
       "<div>\n",
       "<style scoped>\n",
       "    .dataframe tbody tr th:only-of-type {\n",
       "        vertical-align: middle;\n",
       "    }\n",
       "\n",
       "    .dataframe tbody tr th {\n",
       "        vertical-align: top;\n",
       "    }\n",
       "\n",
       "    .dataframe thead th {\n",
       "        text-align: right;\n",
       "    }\n",
       "</style>\n",
       "<table border=\"1\" class=\"dataframe\">\n",
       "  <thead>\n",
       "    <tr style=\"text-align: right;\">\n",
       "      <th></th>\n",
       "      <th>geo</th>\n",
       "      <th>time</th>\n",
       "      <th>life_expectancy_years</th>\n",
       "    </tr>\n",
       "  </thead>\n",
       "  <tbody>\n",
       "    <tr>\n",
       "      <th>0</th>\n",
       "      <td>afg</td>\n",
       "      <td>1800</td>\n",
       "      <td>28.21</td>\n",
       "    </tr>\n",
       "    <tr>\n",
       "      <th>1</th>\n",
       "      <td>afg</td>\n",
       "      <td>1801</td>\n",
       "      <td>28.20</td>\n",
       "    </tr>\n",
       "  </tbody>\n",
       "</table>\n",
       "</div>"
      ],
      "text/plain": [
       "   geo  time  life_expectancy_years\n",
       "0  afg  1800                  28.21\n",
       "1  afg  1801                  28.20"
      ]
     },
     "metadata": {},
     "output_type": "display_data"
    },
    {
     "name": "stdout",
     "output_type": "stream",
     "text": [
      "Malnutrition\n"
     ]
    },
    {
     "data": {
      "text/html": [
       "<div>\n",
       "<style scoped>\n",
       "    .dataframe tbody tr th:only-of-type {\n",
       "        vertical-align: middle;\n",
       "    }\n",
       "\n",
       "    .dataframe tbody tr th {\n",
       "        vertical-align: top;\n",
       "    }\n",
       "\n",
       "    .dataframe thead th {\n",
       "        text-align: right;\n",
       "    }\n",
       "</style>\n",
       "<table border=\"1\" class=\"dataframe\">\n",
       "  <thead>\n",
       "    <tr style=\"text-align: right;\">\n",
       "      <th></th>\n",
       "      <th>geo</th>\n",
       "      <th>time</th>\n",
       "      <th>malnutrition_weight_for_age_percent_of_children_under_5</th>\n",
       "    </tr>\n",
       "  </thead>\n",
       "  <tbody>\n",
       "    <tr>\n",
       "      <th>0</th>\n",
       "      <td>afg</td>\n",
       "      <td>1997</td>\n",
       "      <td>44.9</td>\n",
       "    </tr>\n",
       "    <tr>\n",
       "      <th>1</th>\n",
       "      <td>afg</td>\n",
       "      <td>2004</td>\n",
       "      <td>32.9</td>\n",
       "    </tr>\n",
       "  </tbody>\n",
       "</table>\n",
       "</div>"
      ],
      "text/plain": [
       "   geo  time  malnutrition_weight_for_age_percent_of_children_under_5\n",
       "0  afg  1997                                               44.9      \n",
       "1  afg  2004                                               32.9      "
      ]
     },
     "metadata": {},
     "output_type": "display_data"
    },
    {
     "name": "stdout",
     "output_type": "stream",
     "text": [
      "Girls in School\n"
     ]
    },
    {
     "data": {
      "text/html": [
       "<div>\n",
       "<style scoped>\n",
       "    .dataframe tbody tr th:only-of-type {\n",
       "        vertical-align: middle;\n",
       "    }\n",
       "\n",
       "    .dataframe tbody tr th {\n",
       "        vertical-align: top;\n",
       "    }\n",
       "\n",
       "    .dataframe thead th {\n",
       "        text-align: right;\n",
       "    }\n",
       "</style>\n",
       "<table border=\"1\" class=\"dataframe\">\n",
       "  <thead>\n",
       "    <tr style=\"text-align: right;\">\n",
       "      <th></th>\n",
       "      <th>geo</th>\n",
       "      <th>time</th>\n",
       "      <th>primary_school_completion_percent_of_girls</th>\n",
       "    </tr>\n",
       "  </thead>\n",
       "  <tbody>\n",
       "    <tr>\n",
       "      <th>0</th>\n",
       "      <td>abw</td>\n",
       "      <td>1999</td>\n",
       "      <td>102.50000</td>\n",
       "    </tr>\n",
       "    <tr>\n",
       "      <th>1</th>\n",
       "      <td>abw</td>\n",
       "      <td>2000</td>\n",
       "      <td>97.12557</td>\n",
       "    </tr>\n",
       "  </tbody>\n",
       "</table>\n",
       "</div>"
      ],
      "text/plain": [
       "   geo  time  primary_school_completion_percent_of_girls\n",
       "0  abw  1999                                   102.50000\n",
       "1  abw  2000                                    97.12557"
      ]
     },
     "metadata": {},
     "output_type": "display_data"
    },
    {
     "name": "stdout",
     "output_type": "stream",
     "text": [
      "Babies per Woman\n"
     ]
    },
    {
     "data": {
      "text/html": [
       "<div>\n",
       "<style scoped>\n",
       "    .dataframe tbody tr th:only-of-type {\n",
       "        vertical-align: middle;\n",
       "    }\n",
       "\n",
       "    .dataframe tbody tr th {\n",
       "        vertical-align: top;\n",
       "    }\n",
       "\n",
       "    .dataframe thead th {\n",
       "        text-align: right;\n",
       "    }\n",
       "</style>\n",
       "<table border=\"1\" class=\"dataframe\">\n",
       "  <thead>\n",
       "    <tr style=\"text-align: right;\">\n",
       "      <th></th>\n",
       "      <th>geo</th>\n",
       "      <th>time</th>\n",
       "      <th>children_per_woman_total_fertility</th>\n",
       "    </tr>\n",
       "  </thead>\n",
       "  <tbody>\n",
       "    <tr>\n",
       "      <th>0</th>\n",
       "      <td>abw</td>\n",
       "      <td>1800</td>\n",
       "      <td>5.64</td>\n",
       "    </tr>\n",
       "    <tr>\n",
       "      <th>1</th>\n",
       "      <td>abw</td>\n",
       "      <td>1801</td>\n",
       "      <td>5.64</td>\n",
       "    </tr>\n",
       "  </tbody>\n",
       "</table>\n",
       "</div>"
      ],
      "text/plain": [
       "   geo  time  children_per_woman_total_fertility\n",
       "0  abw  1800                                5.64\n",
       "1  abw  1801                                5.64"
      ]
     },
     "metadata": {},
     "output_type": "display_data"
    },
    {
     "name": "stdout",
     "output_type": "stream",
     "text": [
      "Population Size\n"
     ]
    },
    {
     "data": {
      "text/html": [
       "<div>\n",
       "<style scoped>\n",
       "    .dataframe tbody tr th:only-of-type {\n",
       "        vertical-align: middle;\n",
       "    }\n",
       "\n",
       "    .dataframe tbody tr th {\n",
       "        vertical-align: top;\n",
       "    }\n",
       "\n",
       "    .dataframe thead th {\n",
       "        text-align: right;\n",
       "    }\n",
       "</style>\n",
       "<table border=\"1\" class=\"dataframe\">\n",
       "  <thead>\n",
       "    <tr style=\"text-align: right;\">\n",
       "      <th></th>\n",
       "      <th>geo</th>\n",
       "      <th>time</th>\n",
       "      <th>population_total</th>\n",
       "    </tr>\n",
       "  </thead>\n",
       "  <tbody>\n",
       "    <tr>\n",
       "      <th>0</th>\n",
       "      <td>afg</td>\n",
       "      <td>1800</td>\n",
       "      <td>3280000</td>\n",
       "    </tr>\n",
       "    <tr>\n",
       "      <th>1</th>\n",
       "      <td>afg</td>\n",
       "      <td>1801</td>\n",
       "      <td>3280000</td>\n",
       "    </tr>\n",
       "  </tbody>\n",
       "</table>\n",
       "</div>"
      ],
      "text/plain": [
       "   geo  time  population_total\n",
       "0  afg  1800           3280000\n",
       "1  afg  1801           3280000"
      ]
     },
     "metadata": {},
     "output_type": "display_data"
    },
    {
     "name": "stdout",
     "output_type": "stream",
     "text": [
      "geo\n"
     ]
    },
    {
     "data": {
      "text/html": [
       "<div>\n",
       "<style scoped>\n",
       "    .dataframe tbody tr th:only-of-type {\n",
       "        vertical-align: middle;\n",
       "    }\n",
       "\n",
       "    .dataframe tbody tr th {\n",
       "        vertical-align: top;\n",
       "    }\n",
       "\n",
       "    .dataframe thead th {\n",
       "        text-align: right;\n",
       "    }\n",
       "</style>\n",
       "<table border=\"1\" class=\"dataframe\">\n",
       "  <thead>\n",
       "    <tr style=\"text-align: right;\">\n",
       "      <th></th>\n",
       "      <th>country</th>\n",
       "      <th>g77_and_oecd_countries</th>\n",
       "      <th>income_3groups</th>\n",
       "      <th>income_groups</th>\n",
       "      <th>is--country</th>\n",
       "      <th>iso3166_1_alpha2</th>\n",
       "      <th>iso3166_1_alpha3</th>\n",
       "      <th>iso3166_1_numeric</th>\n",
       "      <th>iso3166_2</th>\n",
       "      <th>landlocked</th>\n",
       "      <th>...</th>\n",
       "      <th>longitude</th>\n",
       "      <th>main_religion_2008</th>\n",
       "      <th>name</th>\n",
       "      <th>un_sdg_ldc</th>\n",
       "      <th>un_sdg_region</th>\n",
       "      <th>un_state</th>\n",
       "      <th>unicef_region</th>\n",
       "      <th>unicode_region_subtag</th>\n",
       "      <th>world_4region</th>\n",
       "      <th>world_6region</th>\n",
       "    </tr>\n",
       "  </thead>\n",
       "  <tbody>\n",
       "    <tr>\n",
       "      <th>0</th>\n",
       "      <td>abkh</td>\n",
       "      <td>others</td>\n",
       "      <td>NaN</td>\n",
       "      <td>NaN</td>\n",
       "      <td>True</td>\n",
       "      <td>NaN</td>\n",
       "      <td>NaN</td>\n",
       "      <td>NaN</td>\n",
       "      <td>NaN</td>\n",
       "      <td>NaN</td>\n",
       "      <td>...</td>\n",
       "      <td>NaN</td>\n",
       "      <td>NaN</td>\n",
       "      <td>Abkhazia</td>\n",
       "      <td>NaN</td>\n",
       "      <td>NaN</td>\n",
       "      <td>False</td>\n",
       "      <td>NaN</td>\n",
       "      <td>NaN</td>\n",
       "      <td>europe</td>\n",
       "      <td>europe_central_asia</td>\n",
       "    </tr>\n",
       "    <tr>\n",
       "      <th>1</th>\n",
       "      <td>abw</td>\n",
       "      <td>others</td>\n",
       "      <td>high_income</td>\n",
       "      <td>high_income</td>\n",
       "      <td>True</td>\n",
       "      <td>AW</td>\n",
       "      <td>ABW</td>\n",
       "      <td>533.0</td>\n",
       "      <td>NaN</td>\n",
       "      <td>coastline</td>\n",
       "      <td>...</td>\n",
       "      <td>-69.96667</td>\n",
       "      <td>christian</td>\n",
       "      <td>Aruba</td>\n",
       "      <td>un_not_least_developed</td>\n",
       "      <td>un_latin_america_and_the_caribbean</td>\n",
       "      <td>False</td>\n",
       "      <td>NaN</td>\n",
       "      <td>AW</td>\n",
       "      <td>americas</td>\n",
       "      <td>america</td>\n",
       "    </tr>\n",
       "  </tbody>\n",
       "</table>\n",
       "<p>2 rows × 21 columns</p>\n",
       "</div>"
      ],
      "text/plain": [
       "  country g77_and_oecd_countries income_3groups income_groups  is--country  \\\n",
       "0    abkh                 others            NaN           NaN         True   \n",
       "1     abw                 others    high_income   high_income         True   \n",
       "\n",
       "  iso3166_1_alpha2 iso3166_1_alpha3  iso3166_1_numeric iso3166_2 landlocked  \\\n",
       "0              NaN              NaN                NaN       NaN        NaN   \n",
       "1               AW              ABW              533.0       NaN  coastline   \n",
       "\n",
       "   ...  longitude  main_religion_2008      name              un_sdg_ldc  \\\n",
       "0  ...        NaN                 NaN  Abkhazia                     NaN   \n",
       "1  ...  -69.96667           christian     Aruba  un_not_least_developed   \n",
       "\n",
       "                        un_sdg_region un_state  unicef_region  \\\n",
       "0                                 NaN    False            NaN   \n",
       "1  un_latin_america_and_the_caribbean    False            NaN   \n",
       "\n",
       "  unicode_region_subtag world_4region        world_6region  \n",
       "0                   NaN        europe  europe_central_asia  \n",
       "1                    AW      americas              america  \n",
       "\n",
       "[2 rows x 21 columns]"
      ]
     },
     "metadata": {},
     "output_type": "display_data"
    },
    {
     "name": "stdout",
     "output_type": "stream",
     "text": [
      "****************************************\n"
     ]
    }
   ],
   "source": [
    "print(\" - DUPLICATES -\")\n",
    "show_duplicates(dict_of_df)\n",
    "print(\" - NULL VALUES -\")\n",
    "show_nulls(dict_of_df)\n",
    "print(\" - HEAD\")\n",
    "print_head(dict_of_df,2)"
   ]
  },
  {
   "cell_type": "markdown",
   "metadata": {},
   "source": [
    "Both the pandas `head()` and `info()` methods confirm the data is indeed structured per the *DDF* format, with a string as geographical indicator, and time in years stored as an integer. The values are stored as 64bit floats.\n",
    "The structure of the *geo* file is a little different. It contains multiple values for each country and for this file, the country identifier is not named `geo`, but `country`. We'll take a closer look at this dataframe below."
   ]
  },
  {
   "cell_type": "markdown",
   "metadata": {},
   "source": [
    "#### Explore the geo data\n",
    "This section take a look data structure of the *geo* dataframe, followed by some data clean-up."
   ]
  },
  {
   "cell_type": "code",
   "execution_count": 11,
   "metadata": {},
   "outputs": [
    {
     "data": {
      "text/html": [
       "<div>\n",
       "<style scoped>\n",
       "    .dataframe tbody tr th:only-of-type {\n",
       "        vertical-align: middle;\n",
       "    }\n",
       "\n",
       "    .dataframe tbody tr th {\n",
       "        vertical-align: top;\n",
       "    }\n",
       "\n",
       "    .dataframe thead th {\n",
       "        text-align: right;\n",
       "    }\n",
       "</style>\n",
       "<table border=\"1\" class=\"dataframe\">\n",
       "  <thead>\n",
       "    <tr style=\"text-align: right;\">\n",
       "      <th></th>\n",
       "      <th>count</th>\n",
       "      <th>value_type</th>\n",
       "      <th>dtype</th>\n",
       "    </tr>\n",
       "    <tr>\n",
       "      <th>column</th>\n",
       "      <th></th>\n",
       "      <th></th>\n",
       "      <th></th>\n",
       "    </tr>\n",
       "  </thead>\n",
       "  <tbody>\n",
       "    <tr>\n",
       "      <th>country</th>\n",
       "      <td>273</td>\n",
       "      <td>non-null</td>\n",
       "      <td>object</td>\n",
       "    </tr>\n",
       "    <tr>\n",
       "      <th>g77_and_oecd_countries</th>\n",
       "      <td>259</td>\n",
       "      <td>non-null</td>\n",
       "      <td>object</td>\n",
       "    </tr>\n",
       "    <tr>\n",
       "      <th>income_3groups</th>\n",
       "      <td>218</td>\n",
       "      <td>non-null</td>\n",
       "      <td>object</td>\n",
       "    </tr>\n",
       "    <tr>\n",
       "      <th>income_groups</th>\n",
       "      <td>218</td>\n",
       "      <td>non-null</td>\n",
       "      <td>object</td>\n",
       "    </tr>\n",
       "    <tr>\n",
       "      <th>is--country</th>\n",
       "      <td>273</td>\n",
       "      <td>non-null</td>\n",
       "      <td>bool</td>\n",
       "    </tr>\n",
       "    <tr>\n",
       "      <th>iso3166_1_alpha2</th>\n",
       "      <td>246</td>\n",
       "      <td>non-null</td>\n",
       "      <td>object</td>\n",
       "    </tr>\n",
       "    <tr>\n",
       "      <th>iso3166_1_alpha3</th>\n",
       "      <td>247</td>\n",
       "      <td>non-null</td>\n",
       "      <td>object</td>\n",
       "    </tr>\n",
       "    <tr>\n",
       "      <th>iso3166_1_numeric</th>\n",
       "      <td>247</td>\n",
       "      <td>non-null</td>\n",
       "      <td>float64</td>\n",
       "    </tr>\n",
       "    <tr>\n",
       "      <th>iso3166_2</th>\n",
       "      <td>1</td>\n",
       "      <td>non-null</td>\n",
       "      <td>object</td>\n",
       "    </tr>\n",
       "    <tr>\n",
       "      <th>landlocked</th>\n",
       "      <td>255</td>\n",
       "      <td>non-null</td>\n",
       "      <td>object</td>\n",
       "    </tr>\n",
       "    <tr>\n",
       "      <th>latitude</th>\n",
       "      <td>241</td>\n",
       "      <td>non-null</td>\n",
       "      <td>float64</td>\n",
       "    </tr>\n",
       "    <tr>\n",
       "      <th>longitude</th>\n",
       "      <td>241</td>\n",
       "      <td>non-null</td>\n",
       "      <td>float64</td>\n",
       "    </tr>\n",
       "    <tr>\n",
       "      <th>main_religion_2008</th>\n",
       "      <td>216</td>\n",
       "      <td>non-null</td>\n",
       "      <td>object</td>\n",
       "    </tr>\n",
       "    <tr>\n",
       "      <th>name</th>\n",
       "      <td>273</td>\n",
       "      <td>non-null</td>\n",
       "      <td>object</td>\n",
       "    </tr>\n",
       "    <tr>\n",
       "      <th>un_sdg_ldc</th>\n",
       "      <td>249</td>\n",
       "      <td>non-null</td>\n",
       "      <td>object</td>\n",
       "    </tr>\n",
       "    <tr>\n",
       "      <th>un_sdg_region</th>\n",
       "      <td>248</td>\n",
       "      <td>non-null</td>\n",
       "      <td>object</td>\n",
       "    </tr>\n",
       "    <tr>\n",
       "      <th>un_state</th>\n",
       "      <td>273</td>\n",
       "      <td>non-null</td>\n",
       "      <td>bool</td>\n",
       "    </tr>\n",
       "    <tr>\n",
       "      <th>unicef_region</th>\n",
       "      <td>195</td>\n",
       "      <td>non-null</td>\n",
       "      <td>object</td>\n",
       "    </tr>\n",
       "    <tr>\n",
       "      <th>unicode_region_subtag</th>\n",
       "      <td>248</td>\n",
       "      <td>non-null</td>\n",
       "      <td>object</td>\n",
       "    </tr>\n",
       "    <tr>\n",
       "      <th>world_4region</th>\n",
       "      <td>271</td>\n",
       "      <td>non-null</td>\n",
       "      <td>object</td>\n",
       "    </tr>\n",
       "    <tr>\n",
       "      <th>world_6region</th>\n",
       "      <td>260</td>\n",
       "      <td>non-null</td>\n",
       "      <td>object</td>\n",
       "    </tr>\n",
       "  </tbody>\n",
       "</table>\n",
       "</div>"
      ],
      "text/plain": [
       "                        count value_type    dtype\n",
       "column                                           \n",
       "country                   273   non-null   object\n",
       "g77_and_oecd_countries    259   non-null   object\n",
       "income_3groups            218   non-null   object\n",
       "income_groups             218   non-null   object\n",
       "is--country               273   non-null     bool\n",
       "iso3166_1_alpha2          246   non-null   object\n",
       "iso3166_1_alpha3          247   non-null   object\n",
       "iso3166_1_numeric         247   non-null  float64\n",
       "iso3166_2                   1   non-null   object\n",
       "landlocked                255   non-null   object\n",
       "latitude                  241   non-null  float64\n",
       "longitude                 241   non-null  float64\n",
       "main_religion_2008        216   non-null   object\n",
       "name                      273   non-null   object\n",
       "un_sdg_ldc                249   non-null   object\n",
       "un_sdg_region             248   non-null   object\n",
       "un_state                  273   non-null     bool\n",
       "unicef_region             195   non-null   object\n",
       "unicode_region_subtag     248   non-null   object\n",
       "world_4region             271   non-null   object\n",
       "world_6region             260   non-null   object"
      ]
     },
     "metadata": {},
     "output_type": "display_data"
    },
    {
     "name": "stdout",
     "output_type": "stream",
     "text": [
      "RangeIndex: 273 entries, 0 to 272\n",
      "dtypes: bool(2), float64(3), object(16)\n"
     ]
    }
   ],
   "source": [
    "pi.print_info(df_geo);"
   ]
  },
  {
   "cell_type": "markdown",
   "metadata": {},
   "source": [
    "The `info()` method shows 273 countries listed, but not all columns in the DataFrame contain data for these 273 countries (as confirmed by the check for null values above). Of special interest here are the regional groupings, *world_4region* and *world_6region*:"
   ]
  },
  {
   "cell_type": "code",
   "execution_count": 12,
   "metadata": {},
   "outputs": [
    {
     "name": "stdout",
     "output_type": "stream",
     "text": [
      "['europe' 'americas' 'asia' 'africa' nan]\n",
      "['europe_central_asia' 'america' 'south_asia' 'sub_saharan_africa'\n",
      " 'middle_east_north_africa' 'east_asia_pacific' nan]\n"
     ]
    }
   ],
   "source": [
    "print(df_geo.world_4region.unique())\n",
    "print(df_geo.world_6region.unique())"
   ]
  },
  {
   "cell_type": "markdown",
   "metadata": {},
   "source": [
    "We can see that the 6-region list splits of sub-Saharan Africa into it's own region and adds North Africa together with the Middle East. It also subdivides Asia in Central Asia and South Asia, with the remainder combined with Europe.\n",
    "\n",
    "Using the Gapminder website, this is graphically represented as follows:\n",
    "\n",
    "World in 4 Regions | World in 6 Regions\n",
    "-|-\n",
    "!['World in 4 Regions'](./img/world_4region.png)|!['World in 6 Regions'](./img/world_6region.png)"
   ]
  },
  {
   "cell_type": "markdown",
   "metadata": {},
   "source": [
    "The 6-region column has 13 entries missing, whereas the 4-region column only has 2 entries missing:"
   ]
  },
  {
   "cell_type": "code",
   "execution_count": 13,
   "metadata": {},
   "outputs": [],
   "source": [
    "no_region_idx = df_geo[df_geo.world_4region.isnull()].index\n",
    "df_no_region = df_geo.iloc[no_region_idx][['country','name','un_sdg_region']]"
   ]
  },
  {
   "cell_type": "code",
   "execution_count": 14,
   "metadata": {},
   "outputs": [],
   "source": [
    "no_region_idx = df_geo[df_geo.world_6region.isnull()].index\n",
    "df_no_region = df_geo.iloc[no_region_idx][['country','name','un_sdg_region']]"
   ]
  },
  {
   "cell_type": "markdown",
   "metadata": {},
   "source": [
    "Using the information from the *un_sdg_region* column, most territories from the *world_6* grouping can be reassigned. This column uses the regional breakdown as used by the United Nations for their Sustainable Development Goals (SDGs)"
   ]
  },
  {
   "cell_type": "code",
   "execution_count": 15,
   "metadata": {},
   "outputs": [],
   "source": [
    "region_map = {'un_latin_america_and_the_caribbean':'america',\n",
    "             'un_sub_saharan_africa': 'sub_saharan_africa',\n",
    "             'un_australia_and_new_zealand':'east_asia_pacific',\n",
    "             'un_oceania_exc_australia_and_new_zealand':'east_asia_pacific'}"
   ]
  },
  {
   "cell_type": "code",
   "execution_count": 16,
   "metadata": {},
   "outputs": [
    {
     "name": "stderr",
     "output_type": "stream",
     "text": [
      "/home/erik/anaconda3/lib/python3.7/site-packages/pandas/core/indexing.py:1637: SettingWithCopyWarning: \n",
      "A value is trying to be set on a copy of a slice from a DataFrame\n",
      "\n",
      "See the caveats in the documentation: https://pandas.pydata.org/pandas-docs/stable/user_guide/indexing.html#returning-a-view-versus-a-copy\n",
      "  self._setitem_single_block(indexer, value, name)\n"
     ]
    }
   ],
   "source": [
    "# step 1, set values in world_6region equal to un_sdg_region\n",
    "# step 2, use .replace to replace values using above dictionary\n",
    "# please note: using 'in_place = True' does not update values\n",
    "\n",
    "#get ID's\n",
    "un_regions = df_geo['un_sdg_region'].iloc[no_region_idx] \n",
    "\n",
    "df_geo['world_6region'].iloc[no_region_idx] = un_regions\n",
    "\n",
    "A = df_geo['world_6region'].iloc[no_region_idx].replace(to_replace = region_map, value = None)\n",
    "\n",
    "df_geo['world_6region'].iloc[no_region_idx] = A"
   ]
  },
  {
   "cell_type": "markdown",
   "metadata": {},
   "source": [
    "Gaza and the West Bank wil be set to the *world_6region* value used for Israel. For United Korea either of the Koreas' value can be used. "
   ]
  },
  {
   "cell_type": "code",
   "execution_count": 17,
   "metadata": {},
   "outputs": [
    {
     "data": {
      "text/html": [
       "<div>\n",
       "<style scoped>\n",
       "    .dataframe tbody tr th:only-of-type {\n",
       "        vertical-align: middle;\n",
       "    }\n",
       "\n",
       "    .dataframe tbody tr th {\n",
       "        vertical-align: top;\n",
       "    }\n",
       "\n",
       "    .dataframe thead th {\n",
       "        text-align: right;\n",
       "    }\n",
       "</style>\n",
       "<table border=\"1\" class=\"dataframe\">\n",
       "  <thead>\n",
       "    <tr style=\"text-align: right;\">\n",
       "      <th></th>\n",
       "      <th>name</th>\n",
       "      <th>world_6region</th>\n",
       "    </tr>\n",
       "  </thead>\n",
       "  <tbody>\n",
       "    <tr>\n",
       "      <th>118</th>\n",
       "      <td>Israel</td>\n",
       "      <td>middle_east_north_africa</td>\n",
       "    </tr>\n",
       "    <tr>\n",
       "      <th>130</th>\n",
       "      <td>South Korea</td>\n",
       "      <td>east_asia_pacific</td>\n",
       "    </tr>\n",
       "  </tbody>\n",
       "</table>\n",
       "</div>"
      ],
      "text/plain": [
       "            name             world_6region\n",
       "118       Israel  middle_east_north_africa\n",
       "130  South Korea         east_asia_pacific"
      ]
     },
     "execution_count": 17,
     "metadata": {},
     "output_type": "execute_result"
    }
   ],
   "source": [
    "df_geo[['name','world_6region']].query('name == \"Israel\" or name == \"South Korea\"')"
   ]
  },
  {
   "cell_type": "code",
   "execution_count": 18,
   "metadata": {},
   "outputs": [],
   "source": [
    "# 'world_6region is last column (-1)'\n",
    "df_geo.iloc[[197,198],-1] = 'middle_east_north_africa'\n",
    "df_geo.iloc[131,-1] = 'east_asia_pacific'"
   ]
  },
  {
   "cell_type": "code",
   "execution_count": 19,
   "metadata": {},
   "outputs": [
    {
     "data": {
      "text/html": [
       "<div>\n",
       "<style scoped>\n",
       "    .dataframe tbody tr th:only-of-type {\n",
       "        vertical-align: middle;\n",
       "    }\n",
       "\n",
       "    .dataframe tbody tr th {\n",
       "        vertical-align: top;\n",
       "    }\n",
       "\n",
       "    .dataframe thead th {\n",
       "        text-align: right;\n",
       "    }\n",
       "</style>\n",
       "<table border=\"1\" class=\"dataframe\">\n",
       "  <thead>\n",
       "    <tr style=\"text-align: right;\">\n",
       "      <th></th>\n",
       "      <th>name</th>\n",
       "      <th>un_sdg_region</th>\n",
       "      <th>world_4region</th>\n",
       "      <th>world_6region</th>\n",
       "    </tr>\n",
       "  </thead>\n",
       "  <tbody>\n",
       "    <tr>\n",
       "      <th>14</th>\n",
       "      <td>Antarctica</td>\n",
       "      <td>NaN</td>\n",
       "      <td>europe</td>\n",
       "      <td>NaN</td>\n",
       "    </tr>\n",
       "    <tr>\n",
       "      <th>32</th>\n",
       "      <td>Bouvet Island</td>\n",
       "      <td>un_latin_america_and_the_caribbean</td>\n",
       "      <td>africa</td>\n",
       "      <td>america</td>\n",
       "    </tr>\n",
       "    <tr>\n",
       "      <th>81</th>\n",
       "      <td>French Southern and Antarctic Lands</td>\n",
       "      <td>NaN</td>\n",
       "      <td>NaN</td>\n",
       "      <td>NaN</td>\n",
       "    </tr>\n",
       "    <tr>\n",
       "      <th>82</th>\n",
       "      <td>Clipperton</td>\n",
       "      <td>NaN</td>\n",
       "      <td>NaN</td>\n",
       "      <td>NaN</td>\n",
       "    </tr>\n",
       "    <tr>\n",
       "      <th>104</th>\n",
       "      <td>Heard and McDonald Islands</td>\n",
       "      <td>un_australia_and_new_zealand</td>\n",
       "      <td>asia</td>\n",
       "      <td>east_asia_pacific</td>\n",
       "    </tr>\n",
       "    <tr>\n",
       "      <th>113</th>\n",
       "      <td>British Indian Ocean Territory</td>\n",
       "      <td>un_sub_saharan_africa</td>\n",
       "      <td>asia</td>\n",
       "      <td>sub_saharan_africa</td>\n",
       "    </tr>\n",
       "    <tr>\n",
       "      <th>131</th>\n",
       "      <td>United Korea (former)</td>\n",
       "      <td>NaN</td>\n",
       "      <td>asia</td>\n",
       "      <td>east_asia_pacific</td>\n",
       "    </tr>\n",
       "    <tr>\n",
       "      <th>146</th>\n",
       "      <td>St. Martin (French part)</td>\n",
       "      <td>un_latin_america_and_the_caribbean</td>\n",
       "      <td>americas</td>\n",
       "      <td>america</td>\n",
       "    </tr>\n",
       "    <tr>\n",
       "      <th>197</th>\n",
       "      <td>Gaza Strip</td>\n",
       "      <td>NaN</td>\n",
       "      <td>asia</td>\n",
       "      <td>middle_east_north_africa</td>\n",
       "    </tr>\n",
       "    <tr>\n",
       "      <th>198</th>\n",
       "      <td>West Bank</td>\n",
       "      <td>NaN</td>\n",
       "      <td>asia</td>\n",
       "      <td>middle_east_north_africa</td>\n",
       "    </tr>\n",
       "    <tr>\n",
       "      <th>210</th>\n",
       "      <td>South Georgia and the South Sandwich Islands</td>\n",
       "      <td>un_latin_america_and_the_caribbean</td>\n",
       "      <td>americas</td>\n",
       "      <td>america</td>\n",
       "    </tr>\n",
       "    <tr>\n",
       "      <th>232</th>\n",
       "      <td>Sint Maarten (Dutch part)</td>\n",
       "      <td>un_latin_america_and_the_caribbean</td>\n",
       "      <td>americas</td>\n",
       "      <td>america</td>\n",
       "    </tr>\n",
       "    <tr>\n",
       "      <th>255</th>\n",
       "      <td>US Minor Outlying Islands</td>\n",
       "      <td>un_oceania_exc_australia_and_new_zealand</td>\n",
       "      <td>americas</td>\n",
       "      <td>east_asia_pacific</td>\n",
       "    </tr>\n",
       "  </tbody>\n",
       "</table>\n",
       "</div>"
      ],
      "text/plain": [
       "                                             name  \\\n",
       "14                                     Antarctica   \n",
       "32                                  Bouvet Island   \n",
       "81            French Southern and Antarctic Lands   \n",
       "82                                     Clipperton   \n",
       "104                    Heard and McDonald Islands   \n",
       "113                British Indian Ocean Territory   \n",
       "131                         United Korea (former)   \n",
       "146                      St. Martin (French part)   \n",
       "197                                    Gaza Strip   \n",
       "198                                     West Bank   \n",
       "210  South Georgia and the South Sandwich Islands   \n",
       "232                     Sint Maarten (Dutch part)   \n",
       "255                     US Minor Outlying Islands   \n",
       "\n",
       "                                un_sdg_region world_4region  \\\n",
       "14                                        NaN        europe   \n",
       "32         un_latin_america_and_the_caribbean        africa   \n",
       "81                                        NaN           NaN   \n",
       "82                                        NaN           NaN   \n",
       "104              un_australia_and_new_zealand          asia   \n",
       "113                     un_sub_saharan_africa          asia   \n",
       "131                                       NaN          asia   \n",
       "146        un_latin_america_and_the_caribbean      americas   \n",
       "197                                       NaN          asia   \n",
       "198                                       NaN          asia   \n",
       "210        un_latin_america_and_the_caribbean      americas   \n",
       "232        un_latin_america_and_the_caribbean      americas   \n",
       "255  un_oceania_exc_australia_and_new_zealand      americas   \n",
       "\n",
       "                world_6region  \n",
       "14                        NaN  \n",
       "32                    america  \n",
       "81                        NaN  \n",
       "82                        NaN  \n",
       "104         east_asia_pacific  \n",
       "113        sub_saharan_africa  \n",
       "131         east_asia_pacific  \n",
       "146                   america  \n",
       "197  middle_east_north_africa  \n",
       "198  middle_east_north_africa  \n",
       "210                   america  \n",
       "232                   america  \n",
       "255         east_asia_pacific  "
      ]
     },
     "metadata": {},
     "output_type": "display_data"
    }
   ],
   "source": [
    "display(df_geo.iloc[no_region_idx][['name','un_sdg_region','world_4region','world_6region']])"
   ]
  },
  {
   "cell_type": "markdown",
   "metadata": {},
   "source": [
    "The remaining countries / regions are small enough to have no noticeable impact when grouping by region."
   ]
  },
  {
   "cell_type": "markdown",
   "metadata": {},
   "source": [
    "Columns that are of no interest are dropped from the *geo* DataFrame. The only columns of interest for analyzing global and geographical trends related to GDP are *country*, *income_groups*, *world_4region* and *world_6region* columns:"
   ]
  },
  {
   "cell_type": "code",
   "execution_count": 20,
   "metadata": {},
   "outputs": [],
   "source": [
    "df_geo = df_geo[['country','name','income_groups','world_4region','world_6region']]\n",
    "df_geo = df_geo.dropna(subset = ['world_6region','world_4region'])"
   ]
  },
  {
   "cell_type": "markdown",
   "metadata": {},
   "source": [
    "To make it easier later on to plot or display the data by region, the *geo* is merged with the files from Gapminder files that describe the regions:"
   ]
  },
  {
   "cell_type": "code",
   "execution_count": 21,
   "metadata": {},
   "outputs": [
    {
     "data": {
      "text/html": [
       "<div>\n",
       "<style scoped>\n",
       "    .dataframe tbody tr th:only-of-type {\n",
       "        vertical-align: middle;\n",
       "    }\n",
       "\n",
       "    .dataframe tbody tr th {\n",
       "        vertical-align: top;\n",
       "    }\n",
       "\n",
       "    .dataframe thead th {\n",
       "        text-align: right;\n",
       "    }\n",
       "</style>\n",
       "<table border=\"1\" class=\"dataframe\">\n",
       "  <thead>\n",
       "    <tr style=\"text-align: right;\">\n",
       "      <th></th>\n",
       "      <th>country</th>\n",
       "      <th>name</th>\n",
       "      <th>income_groups</th>\n",
       "      <th>world_4region</th>\n",
       "      <th>world_6region</th>\n",
       "      <th>geo6_name</th>\n",
       "      <th>geo4_name</th>\n",
       "    </tr>\n",
       "  </thead>\n",
       "  <tbody>\n",
       "    <tr>\n",
       "      <th>0</th>\n",
       "      <td>abkh</td>\n",
       "      <td>Abkhazia</td>\n",
       "      <td>NaN</td>\n",
       "      <td>europe</td>\n",
       "      <td>europe_central_asia</td>\n",
       "      <td>Europe &amp; Central Asia</td>\n",
       "      <td>Europe</td>\n",
       "    </tr>\n",
       "    <tr>\n",
       "      <th>1</th>\n",
       "      <td>abw</td>\n",
       "      <td>Aruba</td>\n",
       "      <td>high_income</td>\n",
       "      <td>americas</td>\n",
       "      <td>america</td>\n",
       "      <td>America</td>\n",
       "      <td>The Americas</td>\n",
       "    </tr>\n",
       "    <tr>\n",
       "      <th>2</th>\n",
       "      <td>afg</td>\n",
       "      <td>Afghanistan</td>\n",
       "      <td>low_income</td>\n",
       "      <td>asia</td>\n",
       "      <td>south_asia</td>\n",
       "      <td>South Asia</td>\n",
       "      <td>Asia</td>\n",
       "    </tr>\n",
       "    <tr>\n",
       "      <th>3</th>\n",
       "      <td>ago</td>\n",
       "      <td>Angola</td>\n",
       "      <td>lower_middle_income</td>\n",
       "      <td>africa</td>\n",
       "      <td>sub_saharan_africa</td>\n",
       "      <td>Sub-Saharan Africa</td>\n",
       "      <td>Africa</td>\n",
       "    </tr>\n",
       "    <tr>\n",
       "      <th>4</th>\n",
       "      <td>aia</td>\n",
       "      <td>Anguilla</td>\n",
       "      <td>NaN</td>\n",
       "      <td>americas</td>\n",
       "      <td>america</td>\n",
       "      <td>America</td>\n",
       "      <td>The Americas</td>\n",
       "    </tr>\n",
       "  </tbody>\n",
       "</table>\n",
       "</div>"
      ],
      "text/plain": [
       "  country         name        income_groups world_4region  \\\n",
       "0    abkh     Abkhazia                  NaN        europe   \n",
       "1     abw        Aruba          high_income      americas   \n",
       "2     afg  Afghanistan           low_income          asia   \n",
       "3     ago       Angola  lower_middle_income        africa   \n",
       "4     aia     Anguilla                  NaN      americas   \n",
       "\n",
       "         world_6region              geo6_name     geo4_name  \n",
       "0  europe_central_asia  Europe & Central Asia        Europe  \n",
       "1              america                America  The Americas  \n",
       "2           south_asia             South Asia          Asia  \n",
       "3   sub_saharan_africa     Sub-Saharan Africa        Africa  \n",
       "4              america                America  The Americas  "
      ]
     },
     "execution_count": 21,
     "metadata": {},
     "output_type": "execute_result"
    }
   ],
   "source": [
    "regions6 = r'ddf--entities--geo--world_6region.csv'\n",
    "regions4 = r'ddf--entities--geo--world_4region.csv'\n",
    "\n",
    "# load files and drop columns\n",
    "df_regions6 = pd.read_csv(dataroot+regions6)\n",
    "df_regions4 = pd.read_csv(dataroot+regions4)\n",
    "df_regions6 = df_regions6.drop(columns = ['is--world_6region','name_long','name_short','rank','shape_lores_svg'])\n",
    "\n",
    "df_regions4 = df_regions4.drop(columns = ['is--world_4region','name_long','name_short','rank','shape_lores_svg',\n",
    "                                         'color','description','latitude','longitude'])\n",
    "\n",
    "# rename the regions' name columns, so that it does not conflict with the name column in the geo set:\n",
    "df_regions6 = df_regions6.rename(columns={'name':'geo6_name'})\n",
    "df_regions4 = df_regions4.rename(columns={'name':'geo4_name'})\n",
    "\n",
    "# join the data\n",
    "df_geo = df_geo.merge(df_regions6, how = 'left',on = 'world_6region')\n",
    "df_geo = df_geo.merge(df_regions4, how = 'left',on = 'world_4region')\n",
    "\n",
    "df_geo.head()\n"
   ]
  },
  {
   "cell_type": "markdown",
   "metadata": {},
   "source": [
    "### Creating a DataFrame containing all indicators\n",
    "To be able to analyze the influence of GDP on the selected indicators and be able to select and group by country or region, the GDP info needs to be joined with the geo information as well as the individual indicator dataframes. "
   ]
  },
  {
   "cell_type": "markdown",
   "metadata": {},
   "source": [
    "#### Joining (merging) GDP data with indicator data\n",
    "The first step is to join the independent variable, GDP, with the selected dependent variables (indicators). Note that from the DDF file naming convention, one can see that all indicators chosen use *geo* and *time* as key. This means the data can be combined using Python's `reduce()` function together with a list comprehension as shown [here](https://stackoverflow.com/questions/44327999/python-pandas-merge-multiple-dataframes).\n",
    "\n",
    "Joning of the *geo* data will be performed in later step, since this file uses a different key."
   ]
  },
  {
   "cell_type": "code",
   "execution_count": 22,
   "metadata": {},
   "outputs": [],
   "source": [
    "list_of_df = list(dict_of_df.values())\n",
    "df_all_indicators = reduce(lambda left,right: pd.merge(left,\n",
    "                                                       right,\n",
    "                                                       on = ['geo','time'],\n",
    "                                                       how = 'outer'), list_of_df[:-1])\n"
   ]
  },
  {
   "cell_type": "code",
   "execution_count": 23,
   "metadata": {},
   "outputs": [
    {
     "data": {
      "text/html": [
       "<div>\n",
       "<style scoped>\n",
       "    .dataframe tbody tr th:only-of-type {\n",
       "        vertical-align: middle;\n",
       "    }\n",
       "\n",
       "    .dataframe tbody tr th {\n",
       "        vertical-align: top;\n",
       "    }\n",
       "\n",
       "    .dataframe thead th {\n",
       "        text-align: right;\n",
       "    }\n",
       "</style>\n",
       "<table border=\"1\" class=\"dataframe\">\n",
       "  <thead>\n",
       "    <tr style=\"text-align: right;\">\n",
       "      <th></th>\n",
       "      <th>count</th>\n",
       "      <th>value_type</th>\n",
       "      <th>dtype</th>\n",
       "    </tr>\n",
       "    <tr>\n",
       "      <th>column</th>\n",
       "      <th></th>\n",
       "      <th></th>\n",
       "      <th></th>\n",
       "    </tr>\n",
       "  </thead>\n",
       "  <tbody>\n",
       "    <tr>\n",
       "      <th>geo</th>\n",
       "      <td>64227</td>\n",
       "      <td>non-null</td>\n",
       "      <td>object</td>\n",
       "    </tr>\n",
       "    <tr>\n",
       "      <th>time</th>\n",
       "      <td>64227</td>\n",
       "      <td>non-null</td>\n",
       "      <td>int64</td>\n",
       "    </tr>\n",
       "    <tr>\n",
       "      <th>gdppercapita_us_inflation_adjusted</th>\n",
       "      <td>9427</td>\n",
       "      <td>non-null</td>\n",
       "      <td>float64</td>\n",
       "    </tr>\n",
       "    <tr>\n",
       "      <th>total_gdp_us_inflation_adjusted</th>\n",
       "      <td>9430</td>\n",
       "      <td>non-null</td>\n",
       "      <td>float64</td>\n",
       "    </tr>\n",
       "    <tr>\n",
       "      <th>all_causes_deaths_in_children_1_59_months_per_1000_births</th>\n",
       "      <td>178</td>\n",
       "      <td>non-null</td>\n",
       "      <td>float64</td>\n",
       "    </tr>\n",
       "    <tr>\n",
       "      <th>life_expectancy_years</th>\n",
       "      <td>56130</td>\n",
       "      <td>non-null</td>\n",
       "      <td>float64</td>\n",
       "    </tr>\n",
       "    <tr>\n",
       "      <th>malnutrition_weight_for_age_percent_of_children_under_5</th>\n",
       "      <td>895</td>\n",
       "      <td>non-null</td>\n",
       "      <td>float64</td>\n",
       "    </tr>\n",
       "    <tr>\n",
       "      <th>primary_school_completion_percent_of_girls</th>\n",
       "      <td>4348</td>\n",
       "      <td>non-null</td>\n",
       "      <td>float64</td>\n",
       "    </tr>\n",
       "    <tr>\n",
       "      <th>children_per_woman_total_fertility</th>\n",
       "      <td>60715</td>\n",
       "      <td>non-null</td>\n",
       "      <td>float64</td>\n",
       "    </tr>\n",
       "    <tr>\n",
       "      <th>population_total</th>\n",
       "      <td>59297</td>\n",
       "      <td>non-null</td>\n",
       "      <td>float64</td>\n",
       "    </tr>\n",
       "  </tbody>\n",
       "</table>\n",
       "</div>"
      ],
      "text/plain": [
       "                                                    count value_type    dtype\n",
       "column                                                                       \n",
       "geo                                                 64227   non-null   object\n",
       "time                                                64227   non-null    int64\n",
       "gdppercapita_us_inflation_adjusted                   9427   non-null  float64\n",
       "total_gdp_us_inflation_adjusted                      9430   non-null  float64\n",
       "all_causes_deaths_in_children_1_59_months_per_1...    178   non-null  float64\n",
       "life_expectancy_years                               56130   non-null  float64\n",
       "malnutrition_weight_for_age_percent_of_children...    895   non-null  float64\n",
       "primary_school_completion_percent_of_girls           4348   non-null  float64\n",
       "children_per_woman_total_fertility                  60715   non-null  float64\n",
       "population_total                                    59297   non-null  float64"
      ]
     },
     "metadata": {},
     "output_type": "display_data"
    },
    {
     "name": "stdout",
     "output_type": "stream",
     "text": [
      "Int64Index: 64227 entries, 0 to 64226\n",
      "dtypes: float64(8), int64(1), object(1)\n"
     ]
    }
   ],
   "source": [
    "pi.print_info(df_all_indicators);"
   ]
  },
  {
   "cell_type": "markdown",
   "metadata": {},
   "source": [
    "Notice that all indicators are joined together using an outer join: this is because not every entry will be available for each indicator. An inner join would only return rows if all indicators would have a value for a certain key."
   ]
  },
  {
   "cell_type": "markdown",
   "metadata": {},
   "source": [
    "#### Joining the geographical data\n",
    "\n",
    "To join the geographical data from the *geo* dataframe the field (columns) to join first need to be identified. For the *geo* dataframe, `country` as used as country identifier instead of `geo`. This means that join to sets together, the columns need to be explicitly called out the `merge()` command."
   ]
  },
  {
   "cell_type": "code",
   "execution_count": 24,
   "metadata": {},
   "outputs": [],
   "source": [
    "df = df_all_indicators.merge(df_geo, how = 'left', left_on = 'geo', right_on = 'country')"
   ]
  },
  {
   "cell_type": "code",
   "execution_count": 25,
   "metadata": {},
   "outputs": [
    {
     "data": {
      "text/html": [
       "<div>\n",
       "<style scoped>\n",
       "    .dataframe tbody tr th:only-of-type {\n",
       "        vertical-align: middle;\n",
       "    }\n",
       "\n",
       "    .dataframe tbody tr th {\n",
       "        vertical-align: top;\n",
       "    }\n",
       "\n",
       "    .dataframe thead th {\n",
       "        text-align: right;\n",
       "    }\n",
       "</style>\n",
       "<table border=\"1\" class=\"dataframe\">\n",
       "  <thead>\n",
       "    <tr style=\"text-align: right;\">\n",
       "      <th></th>\n",
       "      <th>count</th>\n",
       "      <th>value_type</th>\n",
       "      <th>dtype</th>\n",
       "    </tr>\n",
       "    <tr>\n",
       "      <th>column</th>\n",
       "      <th></th>\n",
       "      <th></th>\n",
       "      <th></th>\n",
       "    </tr>\n",
       "  </thead>\n",
       "  <tbody>\n",
       "    <tr>\n",
       "      <th>geo</th>\n",
       "      <td>64227</td>\n",
       "      <td>non-null</td>\n",
       "      <td>object</td>\n",
       "    </tr>\n",
       "    <tr>\n",
       "      <th>time</th>\n",
       "      <td>64227</td>\n",
       "      <td>non-null</td>\n",
       "      <td>int64</td>\n",
       "    </tr>\n",
       "    <tr>\n",
       "      <th>gdppercapita_us_inflation_adjusted</th>\n",
       "      <td>9427</td>\n",
       "      <td>non-null</td>\n",
       "      <td>float64</td>\n",
       "    </tr>\n",
       "    <tr>\n",
       "      <th>total_gdp_us_inflation_adjusted</th>\n",
       "      <td>9430</td>\n",
       "      <td>non-null</td>\n",
       "      <td>float64</td>\n",
       "    </tr>\n",
       "    <tr>\n",
       "      <th>all_causes_deaths_in_children_1_59_months_per_1000_births</th>\n",
       "      <td>178</td>\n",
       "      <td>non-null</td>\n",
       "      <td>float64</td>\n",
       "    </tr>\n",
       "    <tr>\n",
       "      <th>life_expectancy_years</th>\n",
       "      <td>56130</td>\n",
       "      <td>non-null</td>\n",
       "      <td>float64</td>\n",
       "    </tr>\n",
       "    <tr>\n",
       "      <th>malnutrition_weight_for_age_percent_of_children_under_5</th>\n",
       "      <td>895</td>\n",
       "      <td>non-null</td>\n",
       "      <td>float64</td>\n",
       "    </tr>\n",
       "    <tr>\n",
       "      <th>primary_school_completion_percent_of_girls</th>\n",
       "      <td>4348</td>\n",
       "      <td>non-null</td>\n",
       "      <td>float64</td>\n",
       "    </tr>\n",
       "    <tr>\n",
       "      <th>children_per_woman_total_fertility</th>\n",
       "      <td>60715</td>\n",
       "      <td>non-null</td>\n",
       "      <td>float64</td>\n",
       "    </tr>\n",
       "    <tr>\n",
       "      <th>population_total</th>\n",
       "      <td>59297</td>\n",
       "      <td>non-null</td>\n",
       "      <td>float64</td>\n",
       "    </tr>\n",
       "    <tr>\n",
       "      <th>country</th>\n",
       "      <td>64227</td>\n",
       "      <td>non-null</td>\n",
       "      <td>object</td>\n",
       "    </tr>\n",
       "    <tr>\n",
       "      <th>name</th>\n",
       "      <td>64227</td>\n",
       "      <td>non-null</td>\n",
       "      <td>object</td>\n",
       "    </tr>\n",
       "    <tr>\n",
       "      <th>income_groups</th>\n",
       "      <td>61819</td>\n",
       "      <td>non-null</td>\n",
       "      <td>object</td>\n",
       "    </tr>\n",
       "    <tr>\n",
       "      <th>world_4region</th>\n",
       "      <td>64227</td>\n",
       "      <td>non-null</td>\n",
       "      <td>object</td>\n",
       "    </tr>\n",
       "    <tr>\n",
       "      <th>world_6region</th>\n",
       "      <td>64227</td>\n",
       "      <td>non-null</td>\n",
       "      <td>object</td>\n",
       "    </tr>\n",
       "    <tr>\n",
       "      <th>geo6_name</th>\n",
       "      <td>64227</td>\n",
       "      <td>non-null</td>\n",
       "      <td>object</td>\n",
       "    </tr>\n",
       "    <tr>\n",
       "      <th>geo4_name</th>\n",
       "      <td>64227</td>\n",
       "      <td>non-null</td>\n",
       "      <td>object</td>\n",
       "    </tr>\n",
       "  </tbody>\n",
       "</table>\n",
       "</div>"
      ],
      "text/plain": [
       "                                                    count value_type    dtype\n",
       "column                                                                       \n",
       "geo                                                 64227   non-null   object\n",
       "time                                                64227   non-null    int64\n",
       "gdppercapita_us_inflation_adjusted                   9427   non-null  float64\n",
       "total_gdp_us_inflation_adjusted                      9430   non-null  float64\n",
       "all_causes_deaths_in_children_1_59_months_per_1...    178   non-null  float64\n",
       "life_expectancy_years                               56130   non-null  float64\n",
       "malnutrition_weight_for_age_percent_of_children...    895   non-null  float64\n",
       "primary_school_completion_percent_of_girls           4348   non-null  float64\n",
       "children_per_woman_total_fertility                  60715   non-null  float64\n",
       "population_total                                    59297   non-null  float64\n",
       "country                                             64227   non-null   object\n",
       "name                                                64227   non-null   object\n",
       "income_groups                                       61819   non-null   object\n",
       "world_4region                                       64227   non-null   object\n",
       "world_6region                                       64227   non-null   object\n",
       "geo6_name                                           64227   non-null   object\n",
       "geo4_name                                           64227   non-null   object"
      ]
     },
     "metadata": {},
     "output_type": "display_data"
    },
    {
     "name": "stdout",
     "output_type": "stream",
     "text": [
      "Int64Index: 64227 entries, 0 to 64226\n",
      "dtypes: float64(8), int64(1), object(8)\n"
     ]
    }
   ],
   "source": [
    "pi.print_info(df);"
   ]
  },
  {
   "cell_type": "markdown",
   "metadata": {},
   "source": [
    "#### Cleaning up the merged DataFrame\n",
    "Shortening the column names makes the dataframe easier to read. Finally, all rows for which we have no GDP information can be dropped."
   ]
  },
  {
   "cell_type": "code",
   "execution_count": 26,
   "metadata": {},
   "outputs": [],
   "source": [
    "df = df.rename(columns = {'gdppercapita_us_inflation_adjusted': 'GDP_per_cap',\n",
    "                          'total_gdp_us_inflation_adjusted': 'total_GDP',\n",
    "                     'all_causes_deaths_in_children_1_59_months_per_1000_births': 'child_deaths',\n",
    "                    'life_expectancy_years': 'life_expectancy',\n",
    "                    'malnutrition_weight_for_age_percent_of_children_under_5': 'child_malnutrition',\n",
    "                    'primary_school_completion_percent_of_girls':'girl_school_completion',\n",
    "                    'children_per_woman_total_fertility': 'children_per_woman',\n",
    "                    'population_total': 'population' })"
   ]
  },
  {
   "cell_type": "code",
   "execution_count": 27,
   "metadata": {},
   "outputs": [
    {
     "data": {
      "text/plain": [
       "54800"
      ]
     },
     "execution_count": 27,
     "metadata": {},
     "output_type": "execute_result"
    }
   ],
   "source": [
    "# number of rows with no GDP data\n",
    "len(df.query('GDP_per_cap.isnull()', engine = 'python').index)"
   ]
  },
  {
   "cell_type": "code",
   "execution_count": 28,
   "metadata": {},
   "outputs": [],
   "source": [
    "df.dropna(subset = ['GDP_per_cap'],inplace = True)"
   ]
  },
  {
   "cell_type": "markdown",
   "metadata": {},
   "source": [
    "To easier display and interprete the information it is best to avoid displaying large values. Therefore two additional columns are added to the dataframe. One for *GDP per capita in thousands of dollars* and one for *Total GDP in trillions of dollars*."
   ]
  },
  {
   "cell_type": "code",
   "execution_count": 29,
   "metadata": {},
   "outputs": [],
   "source": [
    "df['GDP_per_cap_in_k'] = df.GDP_per_cap/1_000 #convert in thousands of dollars\n",
    "df['total_GDP_in_T'] = df.total_GDP/1_000_000_000_000 #convert in trillions of dollars\n"
   ]
  },
  {
   "cell_type": "markdown",
   "metadata": {},
   "source": [
    "<a id='eda'></a>\n",
    "## Exploratory Data Analysis\n",
    "This chapter will analyze the Gapminder data with the cleaned and merged Dataframe (*df*). Plots and tables will be generated to support answering the questions posed in the <a href=\"#intro\">Introduction</a>. This chapters starts with analazing GDP over time and the moves on to the indicators."
   ]
  },
  {
   "cell_type": "markdown",
   "metadata": {},
   "source": [
    "### GDP over time\n",
    "To analyze the development of GDP over time, the data needs to be manipulated into a different format. To plot and calculate aggregate data by region, the data needs to be rearranged so that the index is time and each column represents a world region. This can be done with pandas' `pivot_table()` command. \n",
    "\n",
    "After this transformation is done, GDP and GDP per capital over time will be looked at, followed by an analysis of GDP per capita per region. For this, Gapminder's 6-region breakdown is used, however, the code is setup to be switched to use a breakdown by 4-region as well."
   ]
  },
  {
   "cell_type": "code",
   "execution_count": 30,
   "metadata": {},
   "outputs": [],
   "source": [
    "df_gdp_per_cap_by_region = df.pivot_table(index='time',\n",
    "                                   columns='geo6_name',\n",
    "                                   values='GDP_per_cap_in_k',\n",
    "                                   aggfunc={'GDP_per_cap_in_k': np.mean}) #note: default aggregation method is mean\n",
    "\n",
    "df_total_gdp_by_region = df.pivot_table(index='time',\n",
    "                                   columns='geo6_name',\n",
    "                                   values='total_GDP_in_T',\n",
    "                                   aggfunc={'total_GDP_in_T': np.sum}) #note: default aggregation method is mean\n"
   ]
  },
  {
   "cell_type": "markdown",
   "metadata": {},
   "source": [
    "#### Global development of GDP"
   ]
  },
  {
   "cell_type": "code",
   "execution_count": 31,
   "metadata": {},
   "outputs": [
    {
     "data": {
      "image/png": "[encoded data removed]",
      "text/plain": [
       "<Figure size 1080x720 with 2 Axes>"
      ]
     },
     "metadata": {},
     "output_type": "display_data"
    }
   ],
   "source": [
    "fig, (ax1, ax2)= plt.subplots(1,2)\n",
    "df_gdp_per_cap_by_region.plot(kind='area',\n",
    "                              stacked=True,\n",
    "                              figsize = (15,10),\n",
    "                              ax = ax1,\n",
    "                              xlabel = 'Year',\n",
    "                              ylabel = 'GDP per Capita in \\\\$1000');\n",
    "\n",
    "ax1.legend(loc = 'upper left')\n",
    "#plt.rc('font',size = 12)\n",
    "ax1.set_title('Average GDP per Capita by Region by Year',fontsize=14)\n",
    "\n",
    "df_total_gdp_by_region.plot(kind='area',\n",
    "                            stacked=True,\n",
    "                            #figsize = (10,7),\n",
    "                            ax = ax2,\n",
    "                            xlabel = 'Year',\n",
    "                            ylabel = 'Total GDP in trillion \\\\$');\n",
    "\n",
    "ax2.set_title('Total GDP Region by Year',fontsize=14);"
   ]
  },
  {
   "cell_type": "markdown",
   "metadata": {},
   "source": [
    "The above figure shows that globally, average GDP per capita has increased from the earliest datapoints in the dataset, 1960, to the latest data, 2019. The total of all regions grew from a combined value of just under \\\\$3,000 to a total of close to  \\\\$80.000. Total GDP shows an incredible increase from around 10 trillion dollars to a sum total of over 80 trillion dollars. Both charts show that two regions missed out on most of the growth: South Asia and Sub Saharan Africa.\n",
    "\n",
    "The above area plots show large trends quite well, but make individual trends difficult to spot. In the next section, GDP is broken down by region."
   ]
  },
  {
   "cell_type": "markdown",
   "metadata": {},
   "source": [
    "#### GDP development by region\n",
    "To efficiently analyze GDP per capita per region, this section will create a subplot of GPD per capita over time using the mean and median values per region. "
   ]
  },
  {
   "cell_type": "code",
   "execution_count": 32,
   "metadata": {},
   "outputs": [
    {
     "data": {
      "image/png": "[encoded data removed]",
      "text/plain": [
       "<Figure size 1080x720 with 6 Axes>"
      ]
     },
     "metadata": {},
     "output_type": "display_data"
    }
   ],
   "source": [
    "fig, axs = plt.subplots(2,3,\n",
    "                       figsize=(15,10))\n",
    "fig.subplots_adjust(hspace= 0.3)\n",
    "fig.suptitle('GDP per Capita by Region',fontsize = 24)\n",
    "#note that axs is NxM dimensional array (verifiable with axs.shape),\n",
    "#therefore, in order to loop over the axs, we need to flatten it.\n",
    "# see for example:\n",
    "#https://rayheberer.medium.com/generating-matplotlib-subplots-programmatically-cc234629b648\n",
    "\n",
    "axs = axs.ravel()\n",
    "\n",
    "#get list of regions:\n",
    "regions = df_geo.geo6_name.unique()\n",
    "\n",
    "\n",
    "#note the parentheses around the full expression, this is so we can use line breaks without using '\\'\n",
    "for i in range(0,len(axs)):\n",
    "    region = regions[i]\n",
    "    axs[i] = (df[['time','GDP_per_cap_in_k','geo6_name']]\n",
    "                .query(f'geo6_name == \"{region}\"')\n",
    "                .groupby(['time'])\n",
    "                .mean()\n",
    "                .plot(y ='GDP_per_cap_in_k', \n",
    "                      ax = axs[i],\n",
    "                      label = 'Mean'));\n",
    "    \n",
    "    axs[i] = (df[['time','GDP_per_cap_in_k','geo6_name']]\n",
    "                .query(f'geo6_name == \"{region}\"')\n",
    "                .groupby(['time'])\n",
    "                .median()\n",
    "                .plot(y ='GDP_per_cap_in_k', \n",
    "                      ax = axs[i],\n",
    "                      label = 'Median'));\n",
    "    \n",
    "    axs[i].set(title = region, xlabel = 'Year', ylabel = 'GDP per Capita in \\\\$1000')"
   ]
  },
  {
   "cell_type": "markdown",
   "metadata": {},
   "source": [
    "The above plots show that certain regions have been affected differently by global econmic crises. During the eighties, there is a decrease in average GDP per capita for Europe & Central Asia, Sub Saharan Africa, Middle East & North Africa and East Asia. America and South Asia seem not affected. The housing crisis of 2009 has a profound impact on America but is less pronounced in Europe & Central Asia and the Middle East & Norht Africa. \n",
    "\n",
    "This chart also shows that even though growth looked almost non existent for Sub Saharan Africa and South Asia on the combined GDP charts, when looked at individually, the overal upward trend does apply to these regions as well. In fact, South Asia has increased almost fivefold. Sub Saharan Africa remains the worst performer when combining growth and absolute GDP per capita. However, its average GDP per capita roughly doubled which is roughly the same as the performance of Europe and Central Asia.\n",
    "\n",
    "These figures also show the median GDP per Capita. For all regions, there is a widening gap between the mean and the median, indicating that GDP is not evenly distributed (positively skewed) between all the countries that make up a region. In the next section, we will take a closer look at this."
   ]
  },
  {
   "cell_type": "code",
   "execution_count": 33,
   "metadata": {},
   "outputs": [],
   "source": [
    "# calc mean and median for first and last year per region\n",
    "A = df.query('world_6region ==\"america\" and time == 1960').GDP_per_cap_in_k.describe().to_frame()\n",
    "A.rename(columns = {'GDP_per_cap_in_k':'1960'}, inplace=True )\n",
    "A[2019] = df.query('world_6region ==\"america\" and time == 2019').GDP_per_cap_in_k.describe().to_frame()"
   ]
  },
  {
   "cell_type": "code",
   "execution_count": 34,
   "metadata": {},
   "outputs": [
    {
     "data": {
      "text/html": [
       "<div>\n",
       "<style scoped>\n",
       "    .dataframe tbody tr th:only-of-type {\n",
       "        vertical-align: middle;\n",
       "    }\n",
       "\n",
       "    .dataframe tbody tr th {\n",
       "        vertical-align: top;\n",
       "    }\n",
       "\n",
       "    .dataframe thead th {\n",
       "        text-align: right;\n",
       "    }\n",
       "</style>\n",
       "<table border=\"1\" class=\"dataframe\">\n",
       "  <thead>\n",
       "    <tr style=\"text-align: right;\">\n",
       "      <th></th>\n",
       "      <th>1960</th>\n",
       "      <th>2019</th>\n",
       "    </tr>\n",
       "  </thead>\n",
       "  <tbody>\n",
       "    <tr>\n",
       "      <th>count</th>\n",
       "      <td>27.000000</td>\n",
       "      <td>34.000000</td>\n",
       "    </tr>\n",
       "    <tr>\n",
       "      <th>mean</th>\n",
       "      <td>5.052475</td>\n",
       "      <td>12.061819</td>\n",
       "    </tr>\n",
       "    <tr>\n",
       "      <th>std</th>\n",
       "      <td>6.432766</td>\n",
       "      <td>12.344452</td>\n",
       "    </tr>\n",
       "    <tr>\n",
       "      <th>min</th>\n",
       "      <td>0.993247</td>\n",
       "      <td>0.714483</td>\n",
       "    </tr>\n",
       "    <tr>\n",
       "      <th>25%</th>\n",
       "      <td>1.498190</td>\n",
       "      <td>4.924508</td>\n",
       "    </tr>\n",
       "    <tr>\n",
       "      <th>50%</th>\n",
       "      <td>2.659525</td>\n",
       "      <td>8.667575</td>\n",
       "    </tr>\n",
       "    <tr>\n",
       "      <th>75%</th>\n",
       "      <td>4.740680</td>\n",
       "      <td>14.967915</td>\n",
       "    </tr>\n",
       "    <tr>\n",
       "      <th>max</th>\n",
       "      <td>27.838393</td>\n",
       "      <td>55.670236</td>\n",
       "    </tr>\n",
       "  </tbody>\n",
       "</table>\n",
       "</div>"
      ],
      "text/plain": [
       "            1960       2019\n",
       "count  27.000000  34.000000\n",
       "mean    5.052475  12.061819\n",
       "std     6.432766  12.344452\n",
       "min     0.993247   0.714483\n",
       "25%     1.498190   4.924508\n",
       "50%     2.659525   8.667575\n",
       "75%     4.740680  14.967915\n",
       "max    27.838393  55.670236"
      ]
     },
     "execution_count": 34,
     "metadata": {},
     "output_type": "execute_result"
    }
   ],
   "source": [
    "A"
   ]
  },
  {
   "cell_type": "markdown",
   "metadata": {},
   "source": [
    "In order to plot the top *x* number of countries per region, we need to verify that the this number *x* does not exceed the total number of countries in a region. Using `groupby()` and `nunique()` we can see how many countries are grouped in each region:"
   ]
  },
  {
   "cell_type": "code",
   "execution_count": 35,
   "metadata": {},
   "outputs": [
    {
     "data": {
      "text/html": [
       "<div>\n",
       "<style scoped>\n",
       "    .dataframe tbody tr th:only-of-type {\n",
       "        vertical-align: middle;\n",
       "    }\n",
       "\n",
       "    .dataframe tbody tr th {\n",
       "        vertical-align: top;\n",
       "    }\n",
       "\n",
       "    .dataframe thead th {\n",
       "        text-align: right;\n",
       "    }\n",
       "</style>\n",
       "<table border=\"1\" class=\"dataframe\">\n",
       "  <thead>\n",
       "    <tr style=\"text-align: right;\">\n",
       "      <th></th>\n",
       "      <th>name</th>\n",
       "    </tr>\n",
       "    <tr>\n",
       "      <th>world_6region</th>\n",
       "      <th></th>\n",
       "    </tr>\n",
       "  </thead>\n",
       "  <tbody>\n",
       "    <tr>\n",
       "      <th>america</th>\n",
       "      <td>41</td>\n",
       "    </tr>\n",
       "    <tr>\n",
       "      <th>east_asia_pacific</th>\n",
       "      <td>34</td>\n",
       "    </tr>\n",
       "    <tr>\n",
       "      <th>europe_central_asia</th>\n",
       "      <td>57</td>\n",
       "    </tr>\n",
       "    <tr>\n",
       "      <th>middle_east_north_africa</th>\n",
       "      <td>19</td>\n",
       "    </tr>\n",
       "    <tr>\n",
       "      <th>south_asia</th>\n",
       "      <td>8</td>\n",
       "    </tr>\n",
       "    <tr>\n",
       "      <th>sub_saharan_africa</th>\n",
       "      <td>47</td>\n",
       "    </tr>\n",
       "  </tbody>\n",
       "</table>\n",
       "</div>"
      ],
      "text/plain": [
       "                          name\n",
       "world_6region                 \n",
       "america                     41\n",
       "east_asia_pacific           34\n",
       "europe_central_asia         57\n",
       "middle_east_north_africa    19\n",
       "south_asia                   8\n",
       "sub_saharan_africa          47"
      ]
     },
     "metadata": {},
     "output_type": "display_data"
    },
    {
     "data": {
      "text/html": [
       "<div>\n",
       "<style scoped>\n",
       "    .dataframe tbody tr th:only-of-type {\n",
       "        vertical-align: middle;\n",
       "    }\n",
       "\n",
       "    .dataframe tbody tr th {\n",
       "        vertical-align: top;\n",
       "    }\n",
       "\n",
       "    .dataframe thead th {\n",
       "        text-align: right;\n",
       "    }\n",
       "</style>\n",
       "<table border=\"1\" class=\"dataframe\">\n",
       "  <thead>\n",
       "    <tr style=\"text-align: right;\">\n",
       "      <th></th>\n",
       "      <th>world_6region</th>\n",
       "      <th>time</th>\n",
       "      <th>name</th>\n",
       "    </tr>\n",
       "  </thead>\n",
       "  <tbody>\n",
       "    <tr>\n",
       "      <th>0</th>\n",
       "      <td>america</td>\n",
       "      <td>1960</td>\n",
       "      <td>27</td>\n",
       "    </tr>\n",
       "    <tr>\n",
       "      <th>60</th>\n",
       "      <td>east_asia_pacific</td>\n",
       "      <td>1960</td>\n",
       "      <td>12</td>\n",
       "    </tr>\n",
       "    <tr>\n",
       "      <th>120</th>\n",
       "      <td>europe_central_asia</td>\n",
       "      <td>1960</td>\n",
       "      <td>15</td>\n",
       "    </tr>\n",
       "    <tr>\n",
       "      <th>180</th>\n",
       "      <td>middle_east_north_africa</td>\n",
       "      <td>1960</td>\n",
       "      <td>4</td>\n",
       "    </tr>\n",
       "    <tr>\n",
       "      <th>240</th>\n",
       "      <td>south_asia</td>\n",
       "      <td>1960</td>\n",
       "      <td>4</td>\n",
       "    </tr>\n",
       "    <tr>\n",
       "      <th>300</th>\n",
       "      <td>sub_saharan_africa</td>\n",
       "      <td>1960</td>\n",
       "      <td>27</td>\n",
       "    </tr>\n",
       "  </tbody>\n",
       "</table>\n",
       "</div>"
      ],
      "text/plain": [
       "                world_6region  time  name\n",
       "0                     america  1960    27\n",
       "60          east_asia_pacific  1960    12\n",
       "120       europe_central_asia  1960    15\n",
       "180  middle_east_north_africa  1960     4\n",
       "240                south_asia  1960     4\n",
       "300        sub_saharan_africa  1960    27"
      ]
     },
     "metadata": {},
     "output_type": "display_data"
    }
   ],
   "source": [
    "# check for the number of countries per region over all years:\n",
    "display(df.groupby('world_6region').name.nunique().to_frame())\n",
    "\n",
    "# check for the minimum number of countries per region by year:         \n",
    "df_n_of_countries = df.groupby(['world_6region','time'], as_index=False).name.nunique()\n",
    "\n",
    "# get index ID's of minimum count of countries per region:\n",
    "ids = df_n_of_countries.groupby('world_6region').name.idxmin()\n",
    "\n",
    "# show table of region, year and mininum number of countries:\n",
    "display(df_n_of_countries.loc[ids])"
   ]
  },
  {
   "cell_type": "markdown",
   "metadata": {},
   "source": [
    "The above tables show that the number of countries in a region varies per year, with the minimum number of countries occuring in 1960. For this year, plotting a top 10 list would thow an error if not properly handled. The below function handles this by checking if the number of countries received is smaller than the top x it wants to plot. "
   ]
  },
  {
   "cell_type": "code",
   "execution_count": 36,
   "metadata": {},
   "outputs": [],
   "source": [
    "def plot_top_gdp(year, headsize):\n",
    "    #setup figure and axes\n",
    "    fig, axs = plt.subplots(2,3,\n",
    "                           figsize=(20,15))\n",
    "\n",
    "    fig.subplots_adjust(hspace = 0.5)\n",
    "\n",
    "    fig.suptitle(f'Top {headsize} Countries by Total GDP in {year}\\n (where available)',\n",
    "                fontsize = 24)\n",
    "\n",
    "    #flatten axes so we can iterate\n",
    "    axs = axs.ravel()    \n",
    "    \n",
    "    xcoord = range(headsize)\n",
    "    \n",
    "    for i, ax in enumerate(axs):\n",
    "        df_GDP_by_region_and_year = (df[['time','name','geo6_name','total_GDP']]\n",
    "             .query(f'time == {year} and geo6_name == \"{regions[i]}\"')\n",
    "             .sort_values(by = 'total_GDP', ascending = False))\n",
    "\n",
    "        # add column expressing GDP as percentage\n",
    "        df_GDP_by_region_and_year['total_GDP_perc'] = (100\n",
    "                                                  * df_GDP_by_region_and_year.total_GDP\n",
    "                                                  / df_GDP_by_region_and_year.total_GDP.sum())\n",
    "\n",
    "        # extract plot data\n",
    "        total_perc = df_GDP_by_region_and_year['total_GDP_perc'].head(headsize).sum()\n",
    "\n",
    "        xlabels = df_GDP_by_region_and_year.name.head(headsize)\n",
    "        height = df_GDP_by_region_and_year.total_GDP_perc.head(headsize)\n",
    "        \n",
    "        # check for size mismatch. This happens if the number of \n",
    "        # top countries selected is larger than the number of countries\n",
    "        # available in a region for a particular year\n",
    "        if len(xcoord) > len(height):\n",
    "            xval = range(len(height))\n",
    "            topsize = len(height)\n",
    "        else:\n",
    "            xval = xcoord\n",
    "            topsize = headsize\n",
    "        \n",
    "        ax.bar(xval, height)\n",
    "        ax.text(max(xval),\n",
    "                    max(height),\n",
    "                    f'Top {topsize} represents \\n {total_perc:.0f}% of regional GDP',\n",
    "                    ha = 'right',\n",
    "                    va = 'top',\n",
    "                    bbox = dict(boxstyle = \"square\"))\n",
    "        #note: hidden ticks will cause the first entry of the labels\n",
    "        # to be skipped when using set_xticklabels without also\n",
    "        # using set_xticks\n",
    "        ax.set_xticks(xval)\n",
    "        ax.set_xticklabels(xlabels, rotation = 45, ha = \"right\")\n",
    "        ax.set(title = f'{regions[i]}')\n",
    "        ax.title.set_size(18)\n",
    "        ax.set_xlabel('Country', fontsize = 14)\n",
    "        ax.set_ylabel('% of Regional Total GDP', fontsize = 14)\n",
    "        #plot each bar's value as well as text\n",
    "        max_height = max(height)\n",
    "        for xpos, ypos in enumerate(height):\n",
    "            ax.text(xpos, \n",
    "                     ypos + 0.01*max_height, #add 1% extra height for better spacing \n",
    "                     f'{ypos:.0f}') # format percentage"
   ]
  },
  {
   "cell_type": "code",
   "execution_count": 37,
   "metadata": {},
   "outputs": [
    {
     "data": {
      "application/vnd.jupyter.widget-view+json": {
       "model_id": "9b9933e4c3d947fda2705f39c3c945e4",
       "version_major": 2,
       "version_minor": 0
      },
      "text/plain": [
       "interactive(children=(IntSlider(value=1960, description='Year', max=2019, min=1960), IntSlider(value=8, descri…"
      ]
     },
     "metadata": {},
     "output_type": "display_data"
    }
   ],
   "source": [
    "interact(plot_top_gdp,\n",
    "         year = widgets.IntSlider(min = 1960, max = 2019, step = 1,value = 1960, description = 'Year'),\n",
    "         headsize = widgets.IntSlider(min = 3, max = 10, step = 1,value = 8, description = 'X in Top X'));"
   ]
  },
  {
   "cell_type": "markdown",
   "metadata": {},
   "source": [
    "The figure above shows the top countries ranked by percentage of GDP for a certain year in the dataset. Using the `Year` slider, the figure  can be used to navigate through all years in the set. The `Top X` slider can be used to select the number of countries ranked, e.g., top 3, top 10. \n",
    "\n",
    "Although the rankings change through the years, the overal distribution for all regions is very skewed with most GDP concentrated in only a handful of countries. \n",
    "\n",
    "The most extreme being America, where the United States is responsible for between 70% and 80% of the region's total GDP. The most evenly distributed region is Europe and Central Asia, although even in this region, the top 10 countries in 2019 still account for 77% of total GDP."
   ]
  },
  {
   "cell_type": "markdown",
   "metadata": {},
   "source": [
    "### How is Quality of Life related to GDP per capita\n",
    "To determine how the selected indicators are related to GDP, a framework has to be setup to create a scatterplot. A function that can be reused to plot each indicator will be used in conjunction with an *ipywidget* to control the year variable. This enables quickly looking up the relation between an indicator and GDP for any given year "
   ]
  },
  {
   "cell_type": "markdown",
   "metadata": {},
   "source": [
    "In addition, a palette dictionary is created to fix the assigned color per region, this avoids changing colors when using interactive plots."
   ]
  },
  {
   "cell_type": "code",
   "execution_count": 38,
   "metadata": {},
   "outputs": [],
   "source": [
    "# setting up a color palette, the colors are chosen arbitrarily\n",
    "keys = df['geo4_name'].unique()\n",
    "colors = ['royalblue', 'darkviolet', 'crimson','green']\n",
    "palette_4region = dict(zip(keys,colors))\n",
    "\n",
    "keys = df['geo6_name'].unique()\n",
    "colors = ['royalblue', 'darkviolet', 'crimson','green', 'darkorange','slategray']\n",
    "palette_6region = dict(zip(keys,colors))"
   ]
  },
  {
   "cell_type": "code",
   "execution_count": 39,
   "metadata": {},
   "outputs": [],
   "source": [
    "def filter_data(df,year,indicator):\n",
    "    \"\"\"Simple function that filters a dataframe based on year and indicator\"\"\"\n",
    "    data = df.query(f'time == {year}').dropna(subset=[indicator])\n",
    "    return data"
   ]
  },
  {
   "cell_type": "code",
   "execution_count": 40,
   "metadata": {},
   "outputs": [],
   "source": [
    "def splot(dframe, year, indicator, ind_label, \n",
    "          region, logx, logy, xrange = (), yrange = ()):\n",
    "    \"\"\"\n",
    "    Function to plot a Seaborn scatter plot using:\n",
    "    a dataframe, year, indicator (= variable to be plotted),\n",
    "    an indicator label (= name to use for variable),\n",
    "    and inputs to set region (4 or 6 world regions) and \n",
    "    axes (scale and ranges)\n",
    "    \"\"\"\n",
    "    \n",
    "    # filter data based on year and indicator (inputs\n",
    "    # of the interact widgets)\n",
    "    data = filter_data(dframe,year,indicator)\n",
    "    \n",
    "    # assign variables based on selected region grouping:\n",
    "    # please note: number of regions that have data available\n",
    "    # for the selected combination of year and indicator \n",
    "    # can vary, cannot hard code to 6 or 4.\n",
    "    \n",
    "    palette_region = {}\n",
    "    if region == 'geo6_name':\n",
    "        n_of_legend_entries = data.geo6_name.nunique()\n",
    "        palette_region = palette_6region\n",
    "    else:\n",
    "        n_of_legend_entries = data.geo4_name.nunique()\n",
    "        palette_region = palette_4region\n",
    "    \n",
    "    \n",
    "    fig, ax = plt.subplots(figsize=(13,10))\n",
    "    \n",
    "    ax = sns.scatterplot(data = data,\n",
    "                           x = \"GDP_per_cap_in_k\",\n",
    "                           y = indicator,\n",
    "                           size = \"population\",\n",
    "                           hue = region,\n",
    "                           palette = palette_region,\n",
    "                           legend = \"brief\",\n",
    "                           sizes=(80,1200),\n",
    "                           ax = ax);\n",
    "    \n",
    "    \n",
    "    # setup the axes\n",
    "    if logx == True:\n",
    "        ax.set(xscale= 'log')\n",
    "    if logy == True:\n",
    "        ax.set(yscale = 'log')\n",
    "    \n",
    "    if not xrange == ():\n",
    "        ax.set_xlim(xrange[0],xrange[1])\n",
    "    \n",
    "    if not yrange == ():\n",
    "        ax.set_ylim(yrange[0],yrange[1])    \n",
    "            \n",
    "    # setup grid\n",
    "    ax.grid(b=True, which='major', color='grey', linewidth=1.0)\n",
    "    ax.grid(b=True, which='minor', color='grey', linewidth=0.5)\n",
    "    \n",
    "    # setup labels and titel\n",
    "    ax.set(xlabel = 'GDP per Capita in $1000',\n",
    "           ylabel = ind_label)\n",
    "    \n",
    "    ax.set_title(f'{ind_label} by GDP per Capita',\n",
    "                 fontsize = 18);\n",
    "\n",
    "    ax.xaxis.label.set_size(14)\n",
    "    ax.yaxis.label.set_size(14)\n",
    "            \n",
    "    # we need to split up the legend, otherwise the size will block the chart\n",
    "    # use conventional 'h' for handle and 'l' for labels\n",
    "    # see: https://stackoverflow.com/questions/53437462/how-do-i-remove-an-attribute-from-the-legend-of-a-scatter-plot\n",
    "\n",
    "    h,l = ax.get_legend_handles_labels()\n",
    "    \n",
    "    # color portion of the legend (skip entry 0 no need for legend title)\n",
    "    col_l = plt.legend(h[1:n_of_legend_entries+1],\n",
    "                       l[1:n_of_legend_entries+1])\n",
    "\n",
    "    plt.setp(ax.get_legend().get_texts(), fontsize = 12)\n",
    "    \n",
    "    # future expansion: add separate legend for size\n",
    "    # requires meaningful data to be calculated for \n",
    "    # size bins\n",
    "\n",
    "    # size portion of the legend:\n",
    "    #size_l = plt.legend(h[-6:],l[-6:],ncol = 1)\n",
    "\n",
    "    # 2nd legend commands overwrites first, add back in using:\n",
    "    #plt.gca().add_artist(col_l)"
   ]
  },
  {
   "cell_type": "code",
   "execution_count": 41,
   "metadata": {},
   "outputs": [],
   "source": [
    "def top_and_bottom(dframe, year, indicator,ind_label):\n",
    "    # query full dataset by year, and drop rows for which\n",
    "    # there is no indicator data\n",
    "    data = dframe.query(f'time == {year}').dropna(subset=[indicator])\n",
    "    \n",
    "    # limit set number of columns:\n",
    "    datasubset = data[['name',indicator,'GDP_per_cap','population']]\n",
    "    \n",
    "    bottom_5 = (datasubset\n",
    "               .sort_values(by = indicator, ascending = True)\n",
    "               .head(5));\n",
    "    \n",
    "    top_5 = (datasubset\n",
    "               .sort_values(by = indicator, ascending = False)\n",
    "               .head(5));\n",
    "    \n",
    "    print(f'Bottom 5 {ind_label}')\n",
    "    display(bottom_5);\n",
    "    \n",
    "    print(f'Top 5 {ind_label}')\n",
    "    display(top_5);\n",
    "    \n",
    "    print('Descriptive Statistics')\n",
    "    display(datasubset.describe())\n",
    "    "
   ]
  },
  {
   "cell_type": "markdown",
   "metadata": {},
   "source": [
    "#### Life Expectancy"
   ]
  },
  {
   "cell_type": "code",
   "execution_count": 42,
   "metadata": {},
   "outputs": [
    {
     "data": {
      "application/vnd.jupyter.widget-view+json": {
       "model_id": "ea19d754272d4e48ba2a13b6885e3ca1",
       "version_major": 2,
       "version_minor": 0
      },
      "text/plain": [
       "interactive(children=(IntSlider(value=1960, description='Year', max=2019, min=1960), Output()), _dom_classes=(…"
      ]
     },
     "metadata": {},
     "output_type": "display_data"
    },
    {
     "data": {
      "application/vnd.jupyter.widget-view+json": {
       "model_id": "db5cc3ad662e4aba9d6a5058df90b4ff",
       "version_major": 2,
       "version_minor": 0
      },
      "text/plain": [
       "interactive(children=(IntSlider(value=1960, description='Year', max=2019, min=1960), Output()), _dom_classes=(…"
      ]
     },
     "metadata": {},
     "output_type": "display_data"
    }
   ],
   "source": [
    "year_slider = widgets.IntSlider(min = 1960, max = 2019, \n",
    "                                step = 1,value = 1960, \n",
    "                                description = 'Year')\n",
    "\n",
    "#note: even though the splot function is setup to use default arguments,\n",
    "# the interact function does not allow these to be omitted. Use empty tuple instead.\n",
    "\n",
    "xr = (.1,200)\n",
    "yr = (0,100)\n",
    "\n",
    "interact(splot, dframe=fixed(df),\n",
    "         year = year_slider,\n",
    "         indicator = fixed('life_expectancy'),\n",
    "         ind_label = fixed('Life Expectancy in Years'),\n",
    "         region = fixed('geo6_name'),\n",
    "         logx = fixed(True),\n",
    "         logy = fixed(False),\n",
    "         xrange = fixed(xr),\n",
    "         yrange = fixed(yr));\n",
    "         \n",
    "interact(top_and_bottom, dframe = fixed(df),\n",
    "        year = year_slider, \n",
    "        indicator = fixed('life_expectancy'),\n",
    "        ind_label = fixed('Life Expectancy in Years'));"
   ]
  },
  {
   "cell_type": "markdown",
   "metadata": {},
   "source": [
    "The above interactive plot and tables shows that life expectancy is correlated quite strongly to GDP per capita. There is a clear exponential (straight line on the semi-log plot) relation between the life expectancy and GDP per capita that holds true throughout the years. \n",
    "\n",
    "In addition, one can see that as time passes, all values migrate: starting in 1960, the lowest GDP per capita is under 200 dollars per year and the highest GDP per capita is around 30000 dollars per year. This corresponds to a life expectancy of just over 30 to over 70 years. \n",
    "\n",
    "By 2018, the GDP range has shifted to \\\\$200 to over \\\\$200.000 per capita. Life expectancy has dramatically improved from a minimum of 32 years to minimum of 52 years, with the bulk of the countries now over 60 years. In comparison, in 1960, the life expectancy was below 60 years for half the countries ind the data set (and due to population size, more than half the populaton). "
   ]
  },
  {
   "cell_type": "markdown",
   "metadata": {},
   "source": [
    "Another way to look at this data is to create a distribution plot (histogram). For this, it helps to create bins and assign each datapoint to a bin. This way, the distribution of an indicator by GDP per capita can be shown. \n",
    "\n",
    "This can be easily done using Pandas' `qcut()` method. For this analysis the *GDP per Capita* data is binned based on quintiles. `qcut()` tries to make the number of observations per bin the same and adjusts the size (i.e., width) of the bin to achieve this. This means, using a quintile distribution, each bin will represent approximately 20% of the countries. "
   ]
  },
  {
   "cell_type": "code",
   "execution_count": 43,
   "metadata": {},
   "outputs": [
    {
     "data": {
      "image/png": "[encoded data removed]",
      "text/plain": [
       "<Figure size 720x720 with 1 Axes>"
      ]
     },
     "metadata": {},
     "output_type": "display_data"
    }
   ],
   "source": [
    "data = df.query(f'time == 2019').dropna(subset=['life_expectancy'])\n",
    "\n",
    "# create distribution plot based on last year available\n",
    "data['GDP_binned'] = pd.qcut(data['GDP_per_cap'],q=5)\n",
    "\n",
    "# get the bins and counts:\n",
    "bins = pd.qcut(data['GDP_per_cap'],q=5).value_counts()\n",
    "\n",
    "# limit number of columns:\n",
    "datasubset = data[['life_expectancy','GDP_binned']]\n",
    "\n",
    "fig = sns.displot(datasubset, height = 10,\n",
    "            x = 'life_expectancy', \n",
    "            hue = 'GDP_binned', \n",
    "            binwidth=2,\n",
    "            stat = 'density',\n",
    "            element = 'step',\n",
    "            common_norm = False,\n",
    "            legend = False,\n",
    "            );\n",
    "\n",
    "# legend entries\n",
    "legend_list = ('top quintile', '2nd quintile', '3rd quintile','4th quintile','bottom quintile')\n",
    "\n",
    "plt.legend(title = 'GDP per cap. bins', loc = 'upper left',\n",
    "          labels = legend_list,\n",
    "          fontsize = 12);\n",
    "\n",
    "plt.title('Normalized Distribution of Life Expectancy',\n",
    "          fontsize = 24);\n",
    "\n",
    "plt.xlabel('Life Expectancy [years]',fontsize = 14);\n",
    "plt.ylabel('Density [-]',fontsize = 14);"
   ]
  },
  {
   "cell_type": "code",
   "execution_count": 44,
   "metadata": {},
   "outputs": [
    {
     "data": {
      "text/html": [
       "<div>\n",
       "<style scoped>\n",
       "    .dataframe tbody tr th:only-of-type {\n",
       "        vertical-align: middle;\n",
       "    }\n",
       "\n",
       "    .dataframe tbody tr th {\n",
       "        vertical-align: top;\n",
       "    }\n",
       "\n",
       "    .dataframe thead th {\n",
       "        text-align: right;\n",
       "    }\n",
       "</style>\n",
       "<table border=\"1\" class=\"dataframe\">\n",
       "  <thead>\n",
       "    <tr style=\"text-align: right;\">\n",
       "      <th></th>\n",
       "      <th>GDP_per_cap</th>\n",
       "    </tr>\n",
       "  </thead>\n",
       "  <tbody>\n",
       "    <tr>\n",
       "      <th>(208.07399999999998, 1404.362]</th>\n",
       "      <td>34</td>\n",
       "    </tr>\n",
       "    <tr>\n",
       "      <th>(1404.362, 4094.59]</th>\n",
       "      <td>34</td>\n",
       "    </tr>\n",
       "    <tr>\n",
       "      <th>(4094.59, 8737.786]</th>\n",
       "      <td>34</td>\n",
       "    </tr>\n",
       "    <tr>\n",
       "      <th>(8737.786, 24137.472]</th>\n",
       "      <td>34</td>\n",
       "    </tr>\n",
       "    <tr>\n",
       "      <th>(24137.472, 111062.341]</th>\n",
       "      <td>34</td>\n",
       "    </tr>\n",
       "  </tbody>\n",
       "</table>\n",
       "</div>"
      ],
      "text/plain": [
       "                                GDP_per_cap\n",
       "(208.07399999999998, 1404.362]           34\n",
       "(1404.362, 4094.59]                      34\n",
       "(4094.59, 8737.786]                      34\n",
       "(8737.786, 24137.472]                    34\n",
       "(24137.472, 111062.341]                  34"
      ]
     },
     "metadata": {},
     "output_type": "display_data"
    }
   ],
   "source": [
    "display(bins.to_frame())"
   ]
  },
  {
   "cell_type": "markdown",
   "metadata": {},
   "source": [
    "The distribution plot above show that the top 20% of countries by GDP per capita are also the countries with the highest life expectancy, the other quintiles follow in order of GDP per capita. Note that the bin size for the lowest group is only roughly 1200 dollars, whereas the top 20% encompasses GDP per capita from roughly \\\\$24.000 to over \\\\$100.000."
   ]
  },
  {
   "cell_type": "markdown",
   "metadata": {},
   "source": [
    "#### Number of Children per Woman"
   ]
  },
  {
   "cell_type": "code",
   "execution_count": 45,
   "metadata": {},
   "outputs": [
    {
     "data": {
      "application/vnd.jupyter.widget-view+json": {
       "model_id": "be85b6b523c3431b86b02103c30caba9",
       "version_major": 2,
       "version_minor": 0
      },
      "text/plain": [
       "interactive(children=(IntSlider(value=1960, description='Year', max=2019, min=1960), Output()), _dom_classes=(…"
      ]
     },
     "metadata": {},
     "output_type": "display_data"
    },
    {
     "data": {
      "application/vnd.jupyter.widget-view+json": {
       "model_id": "54d464dceed8452abb47ebee04487b17",
       "version_major": 2,
       "version_minor": 0
      },
      "text/plain": [
       "interactive(children=(IntSlider(value=1960, description='Year', max=2019, min=1960), Output()), _dom_classes=(…"
      ]
     },
     "metadata": {},
     "output_type": "display_data"
    }
   ],
   "source": [
    "year_slider = widgets.IntSlider(min = 1960, max = 2019, step = 1,value = 1960, description = 'Year')\n",
    "\n",
    "xr = (.1, 200)\n",
    "yr = (0,10)\n",
    "interact(splot, dframe=fixed(df),\n",
    "         year = year_slider,\n",
    "         indicator = fixed('children_per_woman'),\n",
    "         ind_label = fixed('Number of Children per Woman'),\n",
    "         region = fixed('geo6_name'),\n",
    "         logx = fixed(True),\n",
    "         logy = fixed(False),\n",
    "         xrange = fixed(xr),\n",
    "         yrange = fixed(yr));\n",
    "\n",
    "interact(top_and_bottom, dframe = fixed(df),\n",
    "        year = year_slider, \n",
    "        indicator = fixed('children_per_woman'),\n",
    "        ind_label = fixed('Number of Children per Woman'));"
   ]
  },
  {
   "cell_type": "markdown",
   "metadata": {},
   "source": [
    "For this indicator, the correlation is less strong as compared to life expectancy, but stepping through the years using the widget slider the trend is clear: an increase in GDP results in a lower number of babies per woman. However, once a certain GDP per capita has been reached, the number of babies per woman remains flat for wide range of GDP per capita. By 2019, bottom right of the plot shows a horizontal grouping of counries. From around \\\\$5.000 and on, the number of childer per woman stabilizes at around 1.8."
   ]
  },
  {
   "cell_type": "markdown",
   "metadata": {},
   "source": [
    "#### Child deaths under 5 years of age"
   ]
  },
  {
   "cell_type": "markdown",
   "metadata": {},
   "source": [
    "The dataset for this indicator only contains data for the year 2008, so trends over time cannot be shown, however, the information for the year 2008 is relatively complete with info on 178 countries:"
   ]
  },
  {
   "cell_type": "code",
   "execution_count": 46,
   "metadata": {},
   "outputs": [
    {
     "name": "stdout",
     "output_type": "stream",
     "text": [
      "Unique years:  [2008]\n",
      "Number of unique countries:  178\n"
     ]
    }
   ],
   "source": [
    "print('Unique years: ',df_deaths_under_5.time.unique())\n",
    "print('Number of unique countries: ',df_deaths_under_5.geo.nunique())"
   ]
  },
  {
   "cell_type": "code",
   "execution_count": 47,
   "metadata": {},
   "outputs": [
    {
     "data": {
      "application/vnd.jupyter.widget-view+json": {
       "model_id": "fc3c254167ad40a6b1463f529cc97ad4",
       "version_major": 2,
       "version_minor": 0
      },
      "text/plain": [
       "interactive(children=(IntSlider(value=2008, description='Year', max=2008, min=2008), Output()), _dom_classes=(…"
      ]
     },
     "metadata": {},
     "output_type": "display_data"
    },
    {
     "data": {
      "application/vnd.jupyter.widget-view+json": {
       "model_id": "26f1024e60d94363b7be47a5fcadd802",
       "version_major": 2,
       "version_minor": 0
      },
      "text/plain": [
       "interactive(children=(IntSlider(value=2008, description='Year', max=2008, min=2008), Output()), _dom_classes=(…"
      ]
     },
     "metadata": {},
     "output_type": "display_data"
    }
   ],
   "source": [
    "year_slider = widgets.IntSlider(min = 2008, max = 2008, step = 1,value = 2008, description = 'Year')\n",
    "\n",
    "xr = (.2, 130)\n",
    "yr = ()\n",
    "interact(splot, dframe=fixed(df),\n",
    "         year = year_slider,\n",
    "         indicator = fixed('child_deaths'),\n",
    "         ind_label = fixed('Number of Child Deaths under 5 Years of Age'),\n",
    "         region = fixed('geo6_name'),\n",
    "         logx = fixed(True),\n",
    "         logy = fixed(True),\n",
    "         xrange = fixed(xr),\n",
    "         yrange = fixed(yr));\n",
    "\n",
    "interact(top_and_bottom, dframe = fixed(df),\n",
    "        year = year_slider, \n",
    "        indicator = fixed('child_deaths'),\n",
    "        ind_label = fixed('Number of Child Deaths under 5 Years of Age'));"
   ]
  },
  {
   "cell_type": "markdown",
   "metadata": {},
   "source": [
    "Child death under five years of age shows a strong correlation with GDP per capita. It is noticeable however that for countries in Sub-Saharan Africa, the correlation is a little weaker. There is larger number of countries that spaced further away from the diagonal grouping. "
   ]
  },
  {
   "cell_type": "markdown",
   "metadata": {},
   "source": [
    "#### Percentage of Girls Completing Primary School\n",
    "Per Gapminder, this dataset contains some data limitations:\n",
    "\n",
    "> Primary completion rate, or gross intake ratio to the last grade of primary education, is the number of new entrants (enrollments minus repeaters) in the last grade of primary education, regardless of age, divided by the population at the entrance age for the last grade of primary education. Data limitations preclude adjusting for students who drop out during the final year of primary education.\n",
    "\n",
    "These limitations have as a result that for some countries and years, the completion rate is larger than 100 percent. \n",
    "\n",
    "Additionally, this data is also only available from 1970 and on as shown below:\n"
   ]
  },
  {
   "cell_type": "code",
   "execution_count": 48,
   "metadata": {},
   "outputs": [
    {
     "name": "stdout",
     "output_type": "stream",
     "text": [
      "[1970 1971 1972 1973 1974 1975 1976 1977 1978 1979 1980 1981 1982 1983\n",
      " 1984 1985 1986 1987 1988 1989 1990 1991 1992 1993 1994 1995 1996 1997\n",
      " 1998 1999 2000 2001 2002 2003 2004 2005 2006 2007 2008 2009 2010 2011\n",
      " 2012 2013 2014 2015 2016 2017 2018 2019]\n"
     ]
    }
   ],
   "source": [
    "# find the years for which we have data, so we can setup the slider\n",
    "# if data is consecutive, if not either empyt years need to be accepted\n",
    "# or widget needs to be swapped to drop down\n",
    "\n",
    "years_with_data = df.query('girl_school_completion.isnull() == False',engine = 'python').time.unique()\n",
    "\n",
    "print(np.sort(years_with_data))"
   ]
  },
  {
   "cell_type": "code",
   "execution_count": 49,
   "metadata": {},
   "outputs": [
    {
     "data": {
      "application/vnd.jupyter.widget-view+json": {
       "model_id": "ab6cf1f605a14386ae2a9b252a953cf9",
       "version_major": 2,
       "version_minor": 0
      },
      "text/plain": [
       "interactive(children=(IntSlider(value=1970, description='Year', max=2019, min=1970), Output()), _dom_classes=(…"
      ]
     },
     "metadata": {},
     "output_type": "display_data"
    },
    {
     "data": {
      "application/vnd.jupyter.widget-view+json": {
       "model_id": "3e7099423b174cc688d41723e6994a29",
       "version_major": 2,
       "version_minor": 0
      },
      "text/plain": [
       "interactive(children=(IntSlider(value=1970, description='Year', max=2019, min=1970), Output()), _dom_classes=(…"
      ]
     },
     "metadata": {},
     "output_type": "display_data"
    }
   ],
   "source": [
    "year_slider = widgets.IntSlider(min = 1970, max = 2019, step = 1,value = 1970, description = 'Year')\n",
    "\n",
    "xr = (.1, 200)\n",
    "yr = (0, 120)\n",
    "interact(splot, dframe=fixed(df),\n",
    "         year = year_slider,\n",
    "         indicator = fixed('girl_school_completion'),\n",
    "         ind_label = fixed('Percentage of Girls Completing Elementary School'),\n",
    "         region = fixed('geo6_name'),\n",
    "         logx = fixed(True),\n",
    "         logy = fixed(False),\n",
    "         xrange = fixed(xr),\n",
    "         yrange = fixed(yr));\n",
    "\n",
    "interact(top_and_bottom, dframe = fixed(df),\n",
    "        year = year_slider, \n",
    "        indicator = fixed('girl_school_completion'),\n",
    "        ind_label = fixed('Percentage of Girls Completing Elementary School'));"
   ]
  },
  {
   "cell_type": "markdown",
   "metadata": {},
   "source": [
    "The data for school completion for the early years if not very complete and no trends can be deduced from it. In later years, the relation between school completion and GDP per capita follows the inverse pattern of number of children per woman. There is a correlation that weakens once a certain GDP threshold is passed. It is likely that this has do with general school attendence in wealthier nations, not necessarily girl school completion."
   ]
  },
  {
   "cell_type": "markdown",
   "metadata": {},
   "source": [
    "#### Malnutrition in Children under Five Years of Age"
   ]
  },
  {
   "cell_type": "code",
   "execution_count": 50,
   "metadata": {},
   "outputs": [
    {
     "name": "stdout",
     "output_type": "stream",
     "text": [
      "[1983 1985 1986 1987 1988 1989 1990 1991 1992 1993 1994 1995 1996 1997\n",
      " 1998 1999 2000 2001 2002 2003 2004 2005 2006 2007 2008 2009 2010 2011\n",
      " 2012 2013 2014 2015 2016 2017 2018 2019]\n"
     ]
    }
   ],
   "source": [
    "# find the years for which we have data, so we can setup the slider\n",
    "# if data is consecutive, if not either empyt years need to be accepted\n",
    "# or widget needs to be swapped to drop down\n",
    "\n",
    "years_with_data = df.query('child_malnutrition.isnull() == False',engine = 'python').time.unique()\n",
    "\n",
    "print(np.sort(years_with_data))"
   ]
  },
  {
   "cell_type": "code",
   "execution_count": 51,
   "metadata": {},
   "outputs": [
    {
     "data": {
      "application/vnd.jupyter.widget-view+json": {
       "model_id": "15ac67e548744a7c8917dd41bd9c569f",
       "version_major": 2,
       "version_minor": 0
      },
      "text/plain": [
       "interactive(children=(IntSlider(value=1983, description='Year', max=2019, min=1983), Output()), _dom_classes=(…"
      ]
     },
     "metadata": {},
     "output_type": "display_data"
    },
    {
     "data": {
      "application/vnd.jupyter.widget-view+json": {
       "model_id": "8abd7337744e41eeb7ae5d515a50b440",
       "version_major": 2,
       "version_minor": 0
      },
      "text/plain": [
       "interactive(children=(IntSlider(value=1983, description='Year', max=2019, min=1983), Output()), _dom_classes=(…"
      ]
     },
     "metadata": {},
     "output_type": "display_data"
    }
   ],
   "source": [
    "year_slider = widgets.IntSlider(min = 1983, max = 2019, step = 1,value = 1983, description = 'Year')\n",
    "\n",
    "xr = (.1, 200)\n",
    "yr = (0, 50)\n",
    "interact(splot, dframe=fixed(df),\n",
    "         year = year_slider,\n",
    "         indicator = fixed('child_malnutrition'),\n",
    "         ind_label = fixed('Percentage of Malnutrition in Children under Five Years of Age'),\n",
    "         region = fixed('geo6_name'),\n",
    "         logx = fixed(True),\n",
    "         logy = fixed(False),\n",
    "         xrange = fixed(xr),\n",
    "         yrange = fixed(yr));\n",
    "\n",
    "interact(top_and_bottom, dframe = fixed(df),\n",
    "        year = year_slider, \n",
    "        indicator = fixed('child_malnutrition'),\n",
    "        ind_label = fixed('Percentage of Malnutrition in Children under Five Years of Age'));"
   ]
  },
  {
   "cell_type": "markdown",
   "metadata": {},
   "source": [
    "The number of datapoints available for child malnutrition are not enough to draw strong conclusions. For most years there are not enough datapoints to visualize a trend line. "
   ]
  },
  {
   "cell_type": "markdown",
   "metadata": {},
   "source": [
    "<a id='conclusions'></a>\n",
    "## Conclusions\n",
    "Across most of the selected indicators there is a strong correlation present between each indicator and GDP per capita. Some indicators show signs of reaching limits, such as a lower limit for number of children per woman after a certain GDP has been reached. Another example of this is school completion of girls. In the latter case this is a physical limit: there is no possibility of more than 100% school completion levels (excluding gaps in the data). For the limit on children per woman, the answer is likely culturally based: most cultures place a strong value on family life. Additional research would be necessary to confirm this.\n",
    "\n",
    "Another effect of these limits is that it makes the correlation for poorer regions stronger, since less countries are near or over the limit. An example of this is visible in the 2019 plot of number of babies per woman by GDP. Sub-Saharan Africa shows a decent correlation, but Europe and Central Asia is mostly independent of GDP.\n",
    "\n",
    "From the performed analysis it cannot be inferred whether or not correlation also means causation. Additional research would have to be performed to establish this.\n",
    "\n",
    "It is however likely to assume that GDP growth has a positive impact on quality of life: in general a higher economic output for a country would mean more means to support its population. There are of course various factors that influence this, such as wealth gaps and democracy levels. \n",
    "\n",
    "One has to be careful though in reaching conclusions by world region level: as the section on GPD growth showed, most regions have a small number of countries that dominate the numbers for the whole region. Examples of this are the United States and India.\n",
    "\n",
    "Overal, there is however an undeniable trend visible that matches the conclusion reached by Dr. Hans Rosling in his book *Factfulness*, over time, all idicators move in the positive direction. There is however still a lot of catching up to do, especially in the Sub-Saharan region of Africa. In most cases, throughout the years, this region is last in class.\n",
    "\n",
    "There are also strong signs of wealth gaps visible, for example in the bin distribution used in the *Life Expectancy* section. If the 2019 GDP per capita data would be binned using equal bin size using `cut()` instead of equal number of observations per bin (using `qcut()`), it becomes clear that the higher GDP per capita countries are highly concentrated. The result of this is shown below. The top 2 quintiles only consist of four countries wheras the bottom quintile consists of 139 countries.\n"
   ]
  },
  {
   "cell_type": "code",
   "execution_count": 52,
   "metadata": {},
   "outputs": [
    {
     "data": {
      "text/html": [
       "<div>\n",
       "<style scoped>\n",
       "    .dataframe tbody tr th:only-of-type {\n",
       "        vertical-align: middle;\n",
       "    }\n",
       "\n",
       "    .dataframe tbody tr th {\n",
       "        vertical-align: top;\n",
       "    }\n",
       "\n",
       "    .dataframe thead th {\n",
       "        text-align: right;\n",
       "    }\n",
       "</style>\n",
       "<table border=\"1\" class=\"dataframe\">\n",
       "  <thead>\n",
       "    <tr style=\"text-align: right;\">\n",
       "      <th></th>\n",
       "      <th>GDP_per_cap</th>\n",
       "    </tr>\n",
       "  </thead>\n",
       "  <tbody>\n",
       "    <tr>\n",
       "      <th>(97.22, 22378.928]</th>\n",
       "      <td>139</td>\n",
       "    </tr>\n",
       "    <tr>\n",
       "      <th>(22378.928, 44549.781]</th>\n",
       "      <td>19</td>\n",
       "    </tr>\n",
       "    <tr>\n",
       "      <th>(44549.781, 66720.634]</th>\n",
       "      <td>16</td>\n",
       "    </tr>\n",
       "    <tr>\n",
       "      <th>(66720.634, 88891.488]</th>\n",
       "      <td>2</td>\n",
       "    </tr>\n",
       "    <tr>\n",
       "      <th>(88891.488, 111062.341]</th>\n",
       "      <td>2</td>\n",
       "    </tr>\n",
       "  </tbody>\n",
       "</table>\n",
       "</div>"
      ],
      "text/plain": [
       "                         GDP_per_cap\n",
       "(97.22, 22378.928]               139\n",
       "(22378.928, 44549.781]            19\n",
       "(44549.781, 66720.634]            16\n",
       "(66720.634, 88891.488]             2\n",
       "(88891.488, 111062.341]            2"
      ]
     },
     "metadata": {},
     "output_type": "display_data"
    }
   ],
   "source": [
    "data = df[['time','GDP_per_cap']].query('time == 2019')\n",
    "data['GDP_binned'] = pd.cut(data['GDP_per_cap'],bins=5)\n",
    "\n",
    "# get the bins and counts:\n",
    "bins = pd.cut(data['GDP_per_cap'],bins=5).value_counts()\n",
    "\n",
    "display(bins.to_frame())"
   ]
  },
  {
   "cell_type": "code",
   "execution_count": 53,
   "metadata": {
    "tags": []
   },
   "outputs": [
    {
     "data": {
      "text/plain": [
       "1"
      ]
     },
     "execution_count": 53,
     "metadata": {},
     "output_type": "execute_result"
    }
   ],
   "source": [
    "from subprocess import call\n",
    "call(['python', '-m', 'nbconvert', 'Investigate_a_Dataset_Erik_de_Vries.ipynb'])"
   ]
  },
  {
   "cell_type": "code",
   "execution_count": null,
   "metadata": {},
   "outputs": [],
   "source": []
  }
 ],
 "metadata": {
  "kernelspec": {
   "display_name": "Python 3",
   "language": "python",
   "name": "python3"
  },
  "language_info": {
   "codemirror_mode": {
    "name": "ipython",
    "version": 3
   },
   "file_extension": ".py",
   "mimetype": "text/x-python",
   "name": "python",
   "nbconvert_exporter": "python",
   "pygments_lexer": "ipython3",
   "version": "3.7.10"
  },
  "toc-autonumbering": true,
  "toc-showtags": false
 },
 "nbformat": 4,
 "nbformat_minor": 4
}
